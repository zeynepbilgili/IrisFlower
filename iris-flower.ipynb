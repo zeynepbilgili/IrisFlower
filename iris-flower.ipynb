{
 "cells": [
  {
   "cell_type": "code",
   "execution_count": 1,
   "id": "dffc4cfe",
   "metadata": {
    "_cell_guid": "b1076dfc-b9ad-4769-8c92-a6c4dae69d19",
    "_uuid": "8f2839f25d086af736a60e9eeb907d3b93b6e0e5",
    "execution": {
     "iopub.execute_input": "2024-11-25T06:46:34.698303Z",
     "iopub.status.busy": "2024-11-25T06:46:34.697750Z",
     "iopub.status.idle": "2024-11-25T06:46:35.697777Z",
     "shell.execute_reply": "2024-11-25T06:46:35.696434Z"
    },
    "papermill": {
     "duration": 1.011292,
     "end_time": "2024-11-25T06:46:35.700775",
     "exception": false,
     "start_time": "2024-11-25T06:46:34.689483",
     "status": "completed"
    },
    "tags": []
   },
   "outputs": [
    {
     "name": "stdout",
     "output_type": "stream",
     "text": [
      "/kaggle/input/iriscsv/Iris.csv\n"
     ]
    }
   ],
   "source": [
    "# This Python 3 environment comes with many helpful analytics libraries installed\n",
    "# It is defined by the kaggle/python Docker image: https://github.com/kaggle/docker-python\n",
    "# For example, here's several helpful packages to load\n",
    "\n",
    "import numpy as np # linear algebra\n",
    "import pandas as pd # data processing, CSV file I/O (e.g. pd.read_csv)\n",
    "\n",
    "# Input data files are available in the read-only \"../input/\" directory\n",
    "# For example, running this (by clicking run or pressing Shift+Enter) will list all files under the input directory\n",
    "\n",
    "import os\n",
    "for dirname, _, filenames in os.walk('/kaggle/input'):\n",
    "    for filename in filenames:\n",
    "        print(os.path.join(dirname, filename))\n",
    "\n",
    "# You can write up to 20GB to the current directory (/kaggle/working/) that gets preserved as output when you create a version using \"Save & Run All\" \n",
    "# You can also write temporary files to /kaggle/temp/, but they won't be saved outside of the current session"
   ]
  },
  {
   "cell_type": "markdown",
   "id": "3817ecee",
   "metadata": {
    "papermill": {
     "duration": 0.006627,
     "end_time": "2024-11-25T06:46:35.714800",
     "exception": false,
     "start_time": "2024-11-25T06:46:35.708173",
     "status": "completed"
    },
    "tags": []
   },
   "source": [
    "## Veri Seti Tanıma\n",
    "- Iris çiçek veri setini kullanacağız.\n",
    "- İçerisinde üç farklı sınıf bulunmaktadır. Bunlar setosa, versicolor ve virginica'dır."
   ]
  },
  {
   "cell_type": "code",
   "execution_count": 2,
   "id": "bf9b5512",
   "metadata": {
    "execution": {
     "iopub.execute_input": "2024-11-25T06:46:35.728941Z",
     "iopub.status.busy": "2024-11-25T06:46:35.728364Z",
     "iopub.status.idle": "2024-11-25T06:46:35.733596Z",
     "shell.execute_reply": "2024-11-25T06:46:35.732406Z"
    },
    "papermill": {
     "duration": 0.015253,
     "end_time": "2024-11-25T06:46:35.735990",
     "exception": false,
     "start_time": "2024-11-25T06:46:35.720737",
     "status": "completed"
    },
    "tags": []
   },
   "outputs": [],
   "source": [
    "# Pandas kütüphanesini yükleleyim\n",
    "import pandas as pd"
   ]
  },
  {
   "cell_type": "code",
   "execution_count": 3,
   "id": "08cb0d3f",
   "metadata": {
    "execution": {
     "iopub.execute_input": "2024-11-25T06:46:35.750029Z",
     "iopub.status.busy": "2024-11-25T06:46:35.749649Z",
     "iopub.status.idle": "2024-11-25T06:46:35.793907Z",
     "shell.execute_reply": "2024-11-25T06:46:35.792719Z"
    },
    "papermill": {
     "duration": 0.054328,
     "end_time": "2024-11-25T06:46:35.796379",
     "exception": false,
     "start_time": "2024-11-25T06:46:35.742051",
     "status": "completed"
    },
    "tags": []
   },
   "outputs": [
    {
     "data": {
      "text/html": [
       "<div>\n",
       "<style scoped>\n",
       "    .dataframe tbody tr th:only-of-type {\n",
       "        vertical-align: middle;\n",
       "    }\n",
       "\n",
       "    .dataframe tbody tr th {\n",
       "        vertical-align: top;\n",
       "    }\n",
       "\n",
       "    .dataframe thead th {\n",
       "        text-align: right;\n",
       "    }\n",
       "</style>\n",
       "<table border=\"1\" class=\"dataframe\">\n",
       "  <thead>\n",
       "    <tr style=\"text-align: right;\">\n",
       "      <th></th>\n",
       "      <th>Id</th>\n",
       "      <th>SepalLengthCm</th>\n",
       "      <th>SepalWidthCm</th>\n",
       "      <th>PetalLengthCm</th>\n",
       "      <th>PetalWidthCm</th>\n",
       "      <th>Species</th>\n",
       "    </tr>\n",
       "  </thead>\n",
       "  <tbody>\n",
       "    <tr>\n",
       "      <th>0</th>\n",
       "      <td>1</td>\n",
       "      <td>5.1</td>\n",
       "      <td>3.5</td>\n",
       "      <td>1.4</td>\n",
       "      <td>0.2</td>\n",
       "      <td>Iris-setosa</td>\n",
       "    </tr>\n",
       "    <tr>\n",
       "      <th>1</th>\n",
       "      <td>2</td>\n",
       "      <td>4.9</td>\n",
       "      <td>3.0</td>\n",
       "      <td>1.4</td>\n",
       "      <td>0.2</td>\n",
       "      <td>Iris-setosa</td>\n",
       "    </tr>\n",
       "    <tr>\n",
       "      <th>2</th>\n",
       "      <td>3</td>\n",
       "      <td>4.7</td>\n",
       "      <td>3.2</td>\n",
       "      <td>1.3</td>\n",
       "      <td>0.2</td>\n",
       "      <td>Iris-setosa</td>\n",
       "    </tr>\n",
       "    <tr>\n",
       "      <th>3</th>\n",
       "      <td>4</td>\n",
       "      <td>4.6</td>\n",
       "      <td>3.1</td>\n",
       "      <td>1.5</td>\n",
       "      <td>0.2</td>\n",
       "      <td>Iris-setosa</td>\n",
       "    </tr>\n",
       "    <tr>\n",
       "      <th>4</th>\n",
       "      <td>5</td>\n",
       "      <td>5.0</td>\n",
       "      <td>3.6</td>\n",
       "      <td>1.4</td>\n",
       "      <td>0.2</td>\n",
       "      <td>Iris-setosa</td>\n",
       "    </tr>\n",
       "  </tbody>\n",
       "</table>\n",
       "</div>"
      ],
      "text/plain": [
       "   Id  SepalLengthCm  SepalWidthCm  PetalLengthCm  PetalWidthCm      Species\n",
       "0   1            5.1           3.5            1.4           0.2  Iris-setosa\n",
       "1   2            4.9           3.0            1.4           0.2  Iris-setosa\n",
       "2   3            4.7           3.2            1.3           0.2  Iris-setosa\n",
       "3   4            4.6           3.1            1.5           0.2  Iris-setosa\n",
       "4   5            5.0           3.6            1.4           0.2  Iris-setosa"
      ]
     },
     "execution_count": 3,
     "metadata": {},
     "output_type": "execute_result"
    }
   ],
   "source": [
    "# Veri setini yükleyelim \n",
    "veri = pd.read_csv('/kaggle/input/iriscsv/Iris.csv')\n",
    "veri.head()"
   ]
  },
  {
   "cell_type": "markdown",
   "id": "6dc3913d",
   "metadata": {
    "papermill": {
     "duration": 0.00593,
     "end_time": "2024-11-25T06:46:35.809638",
     "exception": false,
     "start_time": "2024-11-25T06:46:35.803708",
     "status": "completed"
    },
    "tags": []
   },
   "source": [
    "- Her bir satır, bir çieğe ait ölçüm değerlerini gösterir.\n",
    "- Özellikler sırasıyla sepal-length (alt yaprak uzunluğu cm), sepal-width (alt yaprak genişliği cm), petal-length (üst yaprak uzunluğu cm), petal-width (üst yaprak genişlik cm).\n",
    "- Sınıflarımız ise setosa, versicolor, virginica."
   ]
  },
  {
   "cell_type": "code",
   "execution_count": 4,
   "id": "3d1b8ee2",
   "metadata": {
    "execution": {
     "iopub.execute_input": "2024-11-25T06:46:35.823687Z",
     "iopub.status.busy": "2024-11-25T06:46:35.823303Z",
     "iopub.status.idle": "2024-11-25T06:46:35.830452Z",
     "shell.execute_reply": "2024-11-25T06:46:35.829256Z"
    },
    "papermill": {
     "duration": 0.017273,
     "end_time": "2024-11-25T06:46:35.833163",
     "exception": false,
     "start_time": "2024-11-25T06:46:35.815890",
     "status": "completed"
    },
    "tags": []
   },
   "outputs": [
    {
     "data": {
      "text/plain": [
       "Index(['Id', 'SepalLengthCm', 'SepalWidthCm', 'PetalLengthCm', 'PetalWidthCm',\n",
       "       'Species'],\n",
       "      dtype='object')"
      ]
     },
     "execution_count": 4,
     "metadata": {},
     "output_type": "execute_result"
    }
   ],
   "source": [
    "# Sütunların isimleri\n",
    "veri.columns"
   ]
  },
  {
   "cell_type": "code",
   "execution_count": 5,
   "id": "ed1f4dc8",
   "metadata": {
    "execution": {
     "iopub.execute_input": "2024-11-25T06:46:35.847905Z",
     "iopub.status.busy": "2024-11-25T06:46:35.847514Z",
     "iopub.status.idle": "2024-11-25T06:46:35.860887Z",
     "shell.execute_reply": "2024-11-25T06:46:35.859732Z"
    },
    "papermill": {
     "duration": 0.023596,
     "end_time": "2024-11-25T06:46:35.863050",
     "exception": false,
     "start_time": "2024-11-25T06:46:35.839454",
     "status": "completed"
    },
    "tags": []
   },
   "outputs": [
    {
     "data": {
      "text/plain": [
       "array(['Iris-setosa', 'Iris-versicolor', 'Iris-virginica'], dtype=object)"
      ]
     },
     "execution_count": 5,
     "metadata": {},
     "output_type": "execute_result"
    }
   ],
   "source": [
    "# Veri içerisinde kaç tane sınıf olduğuna bakalım\n",
    "veri.Species.unique()"
   ]
  },
  {
   "cell_type": "code",
   "execution_count": 6,
   "id": "c86f8df0",
   "metadata": {
    "execution": {
     "iopub.execute_input": "2024-11-25T06:46:35.877364Z",
     "iopub.status.busy": "2024-11-25T06:46:35.876971Z",
     "iopub.status.idle": "2024-11-25T06:46:35.902445Z",
     "shell.execute_reply": "2024-11-25T06:46:35.901297Z"
    },
    "papermill": {
     "duration": 0.035497,
     "end_time": "2024-11-25T06:46:35.904976",
     "exception": false,
     "start_time": "2024-11-25T06:46:35.869479",
     "status": "completed"
    },
    "tags": []
   },
   "outputs": [
    {
     "name": "stdout",
     "output_type": "stream",
     "text": [
      "<class 'pandas.core.frame.DataFrame'>\n",
      "RangeIndex: 150 entries, 0 to 149\n",
      "Data columns (total 6 columns):\n",
      " #   Column         Non-Null Count  Dtype  \n",
      "---  ------         --------------  -----  \n",
      " 0   Id             150 non-null    int64  \n",
      " 1   SepalLengthCm  150 non-null    float64\n",
      " 2   SepalWidthCm   150 non-null    float64\n",
      " 3   PetalLengthCm  150 non-null    float64\n",
      " 4   PetalWidthCm   150 non-null    float64\n",
      " 5   Species        150 non-null    object \n",
      "dtypes: float64(4), int64(1), object(1)\n",
      "memory usage: 7.2+ KB\n"
     ]
    }
   ],
   "source": [
    "# Veri ile ilgili bilgi\n",
    "veri.info()"
   ]
  },
  {
   "cell_type": "code",
   "execution_count": 7,
   "id": "29a40ef2",
   "metadata": {
    "execution": {
     "iopub.execute_input": "2024-11-25T06:46:35.919256Z",
     "iopub.status.busy": "2024-11-25T06:46:35.918837Z",
     "iopub.status.idle": "2024-11-25T06:46:35.947395Z",
     "shell.execute_reply": "2024-11-25T06:46:35.946283Z"
    },
    "papermill": {
     "duration": 0.038314,
     "end_time": "2024-11-25T06:46:35.949681",
     "exception": false,
     "start_time": "2024-11-25T06:46:35.911367",
     "status": "completed"
    },
    "tags": []
   },
   "outputs": [
    {
     "data": {
      "text/html": [
       "<div>\n",
       "<style scoped>\n",
       "    .dataframe tbody tr th:only-of-type {\n",
       "        vertical-align: middle;\n",
       "    }\n",
       "\n",
       "    .dataframe tbody tr th {\n",
       "        vertical-align: top;\n",
       "    }\n",
       "\n",
       "    .dataframe thead th {\n",
       "        text-align: right;\n",
       "    }\n",
       "</style>\n",
       "<table border=\"1\" class=\"dataframe\">\n",
       "  <thead>\n",
       "    <tr style=\"text-align: right;\">\n",
       "      <th></th>\n",
       "      <th>Id</th>\n",
       "      <th>SepalLengthCm</th>\n",
       "      <th>SepalWidthCm</th>\n",
       "      <th>PetalLengthCm</th>\n",
       "      <th>PetalWidthCm</th>\n",
       "    </tr>\n",
       "  </thead>\n",
       "  <tbody>\n",
       "    <tr>\n",
       "      <th>count</th>\n",
       "      <td>150.000000</td>\n",
       "      <td>150.000000</td>\n",
       "      <td>150.000000</td>\n",
       "      <td>150.000000</td>\n",
       "      <td>150.000000</td>\n",
       "    </tr>\n",
       "    <tr>\n",
       "      <th>mean</th>\n",
       "      <td>75.500000</td>\n",
       "      <td>5.843333</td>\n",
       "      <td>3.054000</td>\n",
       "      <td>3.758667</td>\n",
       "      <td>1.198667</td>\n",
       "    </tr>\n",
       "    <tr>\n",
       "      <th>std</th>\n",
       "      <td>43.445368</td>\n",
       "      <td>0.828066</td>\n",
       "      <td>0.433594</td>\n",
       "      <td>1.764420</td>\n",
       "      <td>0.763161</td>\n",
       "    </tr>\n",
       "    <tr>\n",
       "      <th>min</th>\n",
       "      <td>1.000000</td>\n",
       "      <td>4.300000</td>\n",
       "      <td>2.000000</td>\n",
       "      <td>1.000000</td>\n",
       "      <td>0.100000</td>\n",
       "    </tr>\n",
       "    <tr>\n",
       "      <th>25%</th>\n",
       "      <td>38.250000</td>\n",
       "      <td>5.100000</td>\n",
       "      <td>2.800000</td>\n",
       "      <td>1.600000</td>\n",
       "      <td>0.300000</td>\n",
       "    </tr>\n",
       "    <tr>\n",
       "      <th>50%</th>\n",
       "      <td>75.500000</td>\n",
       "      <td>5.800000</td>\n",
       "      <td>3.000000</td>\n",
       "      <td>4.350000</td>\n",
       "      <td>1.300000</td>\n",
       "    </tr>\n",
       "    <tr>\n",
       "      <th>75%</th>\n",
       "      <td>112.750000</td>\n",
       "      <td>6.400000</td>\n",
       "      <td>3.300000</td>\n",
       "      <td>5.100000</td>\n",
       "      <td>1.800000</td>\n",
       "    </tr>\n",
       "    <tr>\n",
       "      <th>max</th>\n",
       "      <td>150.000000</td>\n",
       "      <td>7.900000</td>\n",
       "      <td>4.400000</td>\n",
       "      <td>6.900000</td>\n",
       "      <td>2.500000</td>\n",
       "    </tr>\n",
       "  </tbody>\n",
       "</table>\n",
       "</div>"
      ],
      "text/plain": [
       "               Id  SepalLengthCm  SepalWidthCm  PetalLengthCm  PetalWidthCm\n",
       "count  150.000000     150.000000    150.000000     150.000000    150.000000\n",
       "mean    75.500000       5.843333      3.054000       3.758667      1.198667\n",
       "std     43.445368       0.828066      0.433594       1.764420      0.763161\n",
       "min      1.000000       4.300000      2.000000       1.000000      0.100000\n",
       "25%     38.250000       5.100000      2.800000       1.600000      0.300000\n",
       "50%     75.500000       5.800000      3.000000       4.350000      1.300000\n",
       "75%    112.750000       6.400000      3.300000       5.100000      1.800000\n",
       "max    150.000000       7.900000      4.400000       6.900000      2.500000"
      ]
     },
     "execution_count": 7,
     "metadata": {},
     "output_type": "execute_result"
    }
   ],
   "source": [
    "# Veri ile ilgili istatistiksel çıkarımlar\n",
    "veri.describe()"
   ]
  },
  {
   "cell_type": "markdown",
   "id": "92e2e4d4",
   "metadata": {
    "papermill": {
     "duration": 0.006108,
     "end_time": "2024-11-25T06:46:35.962222",
     "exception": false,
     "start_time": "2024-11-25T06:46:35.956114",
     "status": "completed"
    },
    "tags": []
   },
   "source": [
    "## Çizgi Grafiği"
   ]
  },
  {
   "cell_type": "code",
   "execution_count": 8,
   "id": "c66339ea",
   "metadata": {
    "execution": {
     "iopub.execute_input": "2024-11-25T06:46:35.976583Z",
     "iopub.status.busy": "2024-11-25T06:46:35.976162Z",
     "iopub.status.idle": "2024-11-25T06:46:35.981007Z",
     "shell.execute_reply": "2024-11-25T06:46:35.980027Z"
    },
    "papermill": {
     "duration": 0.014462,
     "end_time": "2024-11-25T06:46:35.982989",
     "exception": false,
     "start_time": "2024-11-25T06:46:35.968527",
     "status": "completed"
    },
    "tags": []
   },
   "outputs": [],
   "source": [
    "# Matplotlib kütüphanesini yükleyelim \n",
    "import matplotlib.pyplot as plt"
   ]
  },
  {
   "cell_type": "code",
   "execution_count": 9,
   "id": "fc49eb19",
   "metadata": {
    "execution": {
     "iopub.execute_input": "2024-11-25T06:46:35.998143Z",
     "iopub.status.busy": "2024-11-25T06:46:35.997748Z",
     "iopub.status.idle": "2024-11-25T06:46:36.257367Z",
     "shell.execute_reply": "2024-11-25T06:46:36.256045Z"
    },
    "papermill": {
     "duration": 0.269826,
     "end_time": "2024-11-25T06:46:36.259829",
     "exception": false,
     "start_time": "2024-11-25T06:46:35.990003",
     "status": "completed"
    },
    "tags": []
   },
   "outputs": [
    {
     "data": {
      "image/png": "[encoded data removed]",
      "text/plain": [
       "<Figure size 640x480 with 1 Axes>"
      ]
     },
     "metadata": {},
     "output_type": "display_data"
    }
   ],
   "source": [
    "# Sepal Length sütununu id'ye göre çizdirelim\n",
    "plt.figure()  # Figür oluştur - dış çerçeve\n",
    "plt.plot(veri[\"Id\"], veri['SepalLengthCm'], color = \"red\", alpha = 0.7)  # alpha = saydamlık\n",
    "plt.title('Alt Yaprak Uzunluğu') # Başlık\n",
    "plt.xlabel(\"id\")\n",
    "plt.ylabel(\"Cm\")\n",
    "plt.grid(True) # Izgara\n",
    "plt.show()"
   ]
  },
  {
   "cell_type": "markdown",
   "id": "5ee2dff3",
   "metadata": {
    "papermill": {
     "duration": 0.007211,
     "end_time": "2024-11-25T06:46:36.274399",
     "exception": false,
     "start_time": "2024-11-25T06:46:36.267188",
     "status": "completed"
    },
    "tags": []
   },
   "source": [
    "## Saçılım Grafiği\n",
    "- İki farklı değişkenin arasındaki ilişkiyi belirlemek için kullanılır."
   ]
  },
  {
   "cell_type": "code",
   "execution_count": 10,
   "id": "71898264",
   "metadata": {
    "execution": {
     "iopub.execute_input": "2024-11-25T06:46:36.290793Z",
     "iopub.status.busy": "2024-11-25T06:46:36.290408Z",
     "iopub.status.idle": "2024-11-25T06:46:36.295325Z",
     "shell.execute_reply": "2024-11-25T06:46:36.294301Z"
    },
    "papermill": {
     "duration": 0.015699,
     "end_time": "2024-11-25T06:46:36.297396",
     "exception": false,
     "start_time": "2024-11-25T06:46:36.281697",
     "status": "completed"
    },
    "tags": []
   },
   "outputs": [],
   "source": [
    "# Kütüphaneleri içe aktaralm\n",
    "import matplotlib.pyplot as plt\n",
    "import pandas as pd"
   ]
  },
  {
   "cell_type": "code",
   "execution_count": 11,
   "id": "7f756d08",
   "metadata": {
    "execution": {
     "iopub.execute_input": "2024-11-25T06:46:36.313738Z",
     "iopub.status.busy": "2024-11-25T06:46:36.313375Z",
     "iopub.status.idle": "2024-11-25T06:46:36.329526Z",
     "shell.execute_reply": "2024-11-25T06:46:36.328399Z"
    },
    "papermill": {
     "duration": 0.026792,
     "end_time": "2024-11-25T06:46:36.331759",
     "exception": false,
     "start_time": "2024-11-25T06:46:36.304967",
     "status": "completed"
    },
    "tags": []
   },
   "outputs": [
    {
     "data": {
      "text/html": [
       "<div>\n",
       "<style scoped>\n",
       "    .dataframe tbody tr th:only-of-type {\n",
       "        vertical-align: middle;\n",
       "    }\n",
       "\n",
       "    .dataframe tbody tr th {\n",
       "        vertical-align: top;\n",
       "    }\n",
       "\n",
       "    .dataframe thead th {\n",
       "        text-align: right;\n",
       "    }\n",
       "</style>\n",
       "<table border=\"1\" class=\"dataframe\">\n",
       "  <thead>\n",
       "    <tr style=\"text-align: right;\">\n",
       "      <th></th>\n",
       "      <th>Id</th>\n",
       "      <th>SepalLengthCm</th>\n",
       "      <th>SepalWidthCm</th>\n",
       "      <th>PetalLengthCm</th>\n",
       "      <th>PetalWidthCm</th>\n",
       "      <th>Species</th>\n",
       "    </tr>\n",
       "  </thead>\n",
       "  <tbody>\n",
       "    <tr>\n",
       "      <th>0</th>\n",
       "      <td>1</td>\n",
       "      <td>5.1</td>\n",
       "      <td>3.5</td>\n",
       "      <td>1.4</td>\n",
       "      <td>0.2</td>\n",
       "      <td>Iris-setosa</td>\n",
       "    </tr>\n",
       "    <tr>\n",
       "      <th>1</th>\n",
       "      <td>2</td>\n",
       "      <td>4.9</td>\n",
       "      <td>3.0</td>\n",
       "      <td>1.4</td>\n",
       "      <td>0.2</td>\n",
       "      <td>Iris-setosa</td>\n",
       "    </tr>\n",
       "    <tr>\n",
       "      <th>2</th>\n",
       "      <td>3</td>\n",
       "      <td>4.7</td>\n",
       "      <td>3.2</td>\n",
       "      <td>1.3</td>\n",
       "      <td>0.2</td>\n",
       "      <td>Iris-setosa</td>\n",
       "    </tr>\n",
       "    <tr>\n",
       "      <th>3</th>\n",
       "      <td>4</td>\n",
       "      <td>4.6</td>\n",
       "      <td>3.1</td>\n",
       "      <td>1.5</td>\n",
       "      <td>0.2</td>\n",
       "      <td>Iris-setosa</td>\n",
       "    </tr>\n",
       "    <tr>\n",
       "      <th>4</th>\n",
       "      <td>5</td>\n",
       "      <td>5.0</td>\n",
       "      <td>3.6</td>\n",
       "      <td>1.4</td>\n",
       "      <td>0.2</td>\n",
       "      <td>Iris-setosa</td>\n",
       "    </tr>\n",
       "  </tbody>\n",
       "</table>\n",
       "</div>"
      ],
      "text/plain": [
       "   Id  SepalLengthCm  SepalWidthCm  PetalLengthCm  PetalWidthCm      Species\n",
       "0   1            5.1           3.5            1.4           0.2  Iris-setosa\n",
       "1   2            4.9           3.0            1.4           0.2  Iris-setosa\n",
       "2   3            4.7           3.2            1.3           0.2  Iris-setosa\n",
       "3   4            4.6           3.1            1.5           0.2  Iris-setosa\n",
       "4   5            5.0           3.6            1.4           0.2  Iris-setosa"
      ]
     },
     "execution_count": 11,
     "metadata": {},
     "output_type": "execute_result"
    }
   ],
   "source": [
    "# Veri setimizi tekrar çağıralım\n",
    "veri = pd.read_csv('/kaggle/input/iriscsv/Iris.csv')\n",
    "veri.head()"
   ]
  },
  {
   "cell_type": "code",
   "execution_count": 12,
   "id": "08275d11",
   "metadata": {
    "execution": {
     "iopub.execute_input": "2024-11-25T06:46:36.348520Z",
     "iopub.status.busy": "2024-11-25T06:46:36.348072Z",
     "iopub.status.idle": "2024-11-25T06:46:36.634181Z",
     "shell.execute_reply": "2024-11-25T06:46:36.632917Z"
    },
    "papermill": {
     "duration": 0.297281,
     "end_time": "2024-11-25T06:46:36.636594",
     "exception": false,
     "start_time": "2024-11-25T06:46:36.339313",
     "status": "completed"
    },
    "tags": []
   },
   "outputs": [
    {
     "data": {
      "image/png": "[encoded data removed]",
      "text/plain": [
       "<Figure size 640x480 with 1 Axes>"
      ]
     },
     "metadata": {},
     "output_type": "display_data"
    }
   ],
   "source": [
    "# Sepal Width sütununu Selap Length'e göre çizdirelim\n",
    "plt.figure() # figür oluştur - dış çerçeve\n",
    "plt.scatter(veri[\"SepalLengthCm\"], veri['SepalWidthCm'], color = \"blue\", s = 15, alpha = 0.7) # alpha = saydamlık, s = size\n",
    "plt.title(\"Alt Yaprak Uzunluğu ve Genişliği\") # Başlık\n",
    "plt.xlabel(\"Alt Yaprak Uzunluğu (Cm)\")\n",
    "plt.ylabel(\"Alt Yaprak Genişliği (Cm)\")\n",
    "plt.grid(True) # Izgara\n",
    "plt.show()"
   ]
  },
  {
   "cell_type": "markdown",
   "id": "ea8eb46e",
   "metadata": {
    "papermill": {
     "duration": 0.007719,
     "end_time": "2024-11-25T06:46:36.653086",
     "exception": false,
     "start_time": "2024-11-25T06:46:36.645367",
     "status": "completed"
    },
    "tags": []
   },
   "source": [
    "## Histogram Grafiği\n",
    "- Gruplandırılmış bir veri dağılımının sütun grafiğiyle gösterimidir."
   ]
  },
  {
   "cell_type": "code",
   "execution_count": 13,
   "id": "66b68bb7",
   "metadata": {
    "execution": {
     "iopub.execute_input": "2024-11-25T06:46:36.671305Z",
     "iopub.status.busy": "2024-11-25T06:46:36.670770Z",
     "iopub.status.idle": "2024-11-25T06:46:36.675816Z",
     "shell.execute_reply": "2024-11-25T06:46:36.674956Z"
    },
    "papermill": {
     "duration": 0.016526,
     "end_time": "2024-11-25T06:46:36.677842",
     "exception": false,
     "start_time": "2024-11-25T06:46:36.661316",
     "status": "completed"
    },
    "tags": []
   },
   "outputs": [],
   "source": [
    "# Kütüphaneleri içe aktaralm\n",
    "import matplotlib.pyplot as plt\n",
    "import pandas as pd"
   ]
  },
  {
   "cell_type": "code",
   "execution_count": 14,
   "id": "40a96b51",
   "metadata": {
    "execution": {
     "iopub.execute_input": "2024-11-25T06:46:36.696262Z",
     "iopub.status.busy": "2024-11-25T06:46:36.695798Z",
     "iopub.status.idle": "2024-11-25T06:46:36.711295Z",
     "shell.execute_reply": "2024-11-25T06:46:36.710288Z"
    },
    "papermill": {
     "duration": 0.027422,
     "end_time": "2024-11-25T06:46:36.713532",
     "exception": false,
     "start_time": "2024-11-25T06:46:36.686110",
     "status": "completed"
    },
    "tags": []
   },
   "outputs": [
    {
     "data": {
      "text/html": [
       "<div>\n",
       "<style scoped>\n",
       "    .dataframe tbody tr th:only-of-type {\n",
       "        vertical-align: middle;\n",
       "    }\n",
       "\n",
       "    .dataframe tbody tr th {\n",
       "        vertical-align: top;\n",
       "    }\n",
       "\n",
       "    .dataframe thead th {\n",
       "        text-align: right;\n",
       "    }\n",
       "</style>\n",
       "<table border=\"1\" class=\"dataframe\">\n",
       "  <thead>\n",
       "    <tr style=\"text-align: right;\">\n",
       "      <th></th>\n",
       "      <th>Id</th>\n",
       "      <th>SepalLengthCm</th>\n",
       "      <th>SepalWidthCm</th>\n",
       "      <th>PetalLengthCm</th>\n",
       "      <th>PetalWidthCm</th>\n",
       "      <th>Species</th>\n",
       "    </tr>\n",
       "  </thead>\n",
       "  <tbody>\n",
       "    <tr>\n",
       "      <th>0</th>\n",
       "      <td>1</td>\n",
       "      <td>5.1</td>\n",
       "      <td>3.5</td>\n",
       "      <td>1.4</td>\n",
       "      <td>0.2</td>\n",
       "      <td>Iris-setosa</td>\n",
       "    </tr>\n",
       "    <tr>\n",
       "      <th>1</th>\n",
       "      <td>2</td>\n",
       "      <td>4.9</td>\n",
       "      <td>3.0</td>\n",
       "      <td>1.4</td>\n",
       "      <td>0.2</td>\n",
       "      <td>Iris-setosa</td>\n",
       "    </tr>\n",
       "    <tr>\n",
       "      <th>2</th>\n",
       "      <td>3</td>\n",
       "      <td>4.7</td>\n",
       "      <td>3.2</td>\n",
       "      <td>1.3</td>\n",
       "      <td>0.2</td>\n",
       "      <td>Iris-setosa</td>\n",
       "    </tr>\n",
       "    <tr>\n",
       "      <th>3</th>\n",
       "      <td>4</td>\n",
       "      <td>4.6</td>\n",
       "      <td>3.1</td>\n",
       "      <td>1.5</td>\n",
       "      <td>0.2</td>\n",
       "      <td>Iris-setosa</td>\n",
       "    </tr>\n",
       "    <tr>\n",
       "      <th>4</th>\n",
       "      <td>5</td>\n",
       "      <td>5.0</td>\n",
       "      <td>3.6</td>\n",
       "      <td>1.4</td>\n",
       "      <td>0.2</td>\n",
       "      <td>Iris-setosa</td>\n",
       "    </tr>\n",
       "  </tbody>\n",
       "</table>\n",
       "</div>"
      ],
      "text/plain": [
       "   Id  SepalLengthCm  SepalWidthCm  PetalLengthCm  PetalWidthCm      Species\n",
       "0   1            5.1           3.5            1.4           0.2  Iris-setosa\n",
       "1   2            4.9           3.0            1.4           0.2  Iris-setosa\n",
       "2   3            4.7           3.2            1.3           0.2  Iris-setosa\n",
       "3   4            4.6           3.1            1.5           0.2  Iris-setosa\n",
       "4   5            5.0           3.6            1.4           0.2  Iris-setosa"
      ]
     },
     "execution_count": 14,
     "metadata": {},
     "output_type": "execute_result"
    }
   ],
   "source": [
    "# Veri setimizi tekrar çağıralım\n",
    "veri = pd.read_csv('/kaggle/input/iriscsv/Iris.csv')\n",
    "veri.head()"
   ]
  },
  {
   "cell_type": "code",
   "execution_count": 15,
   "id": "d24c3a98",
   "metadata": {
    "execution": {
     "iopub.execute_input": "2024-11-25T06:46:36.731852Z",
     "iopub.status.busy": "2024-11-25T06:46:36.731359Z",
     "iopub.status.idle": "2024-11-25T06:46:37.092611Z",
     "shell.execute_reply": "2024-11-25T06:46:37.091412Z"
    },
    "papermill": {
     "duration": 0.372938,
     "end_time": "2024-11-25T06:46:37.094771",
     "exception": false,
     "start_time": "2024-11-25T06:46:36.721833",
     "status": "completed"
    },
    "tags": []
   },
   "outputs": [
    {
     "data": {
      "image/png": "[encoded data removed]",
      "text/plain": [
       "<Figure size 640x480 with 1 Axes>"
      ]
     },
     "metadata": {},
     "output_type": "display_data"
    }
   ],
   "source": [
    "# Sepal Lenght ve Petal Lenght sütunlarının histogram  grafiğini çizdirelim\n",
    "plt.figure() # figür oluştur - dış çerçeve\n",
    "plt.hist(veri[\"SepalLengthCm\"], color = \"green\", alpha = 0.5, bins = 20, label = \"Alt Yaprak Uzunluk\") # alpha = saydamlık, bins = aralık\n",
    "plt.hist(veri[\"PetalLengthCm\"], color = \"orange\", alpha = 0.5, bins = 20, label = \"Üst Yaprak Uzunluk\") # alpha = saydamlık, bins = aralık\n",
    "plt.title(\"Alt Yaprak Uzunluğu ve Üst Yaprak Uzunluğu Histogram Grafiği\") # Başlık\n",
    "plt.xlabel(\"Cm\")\n",
    "plt.ylabel(\"Frekans\")\n",
    "plt.legend() # Label'ların görünebilmesi için\n",
    "plt.show()"
   ]
  },
  {
   "cell_type": "markdown",
   "id": "5bf7c555",
   "metadata": {
    "papermill": {
     "duration": 0.008196,
     "end_time": "2024-11-25T06:46:37.111667",
     "exception": false,
     "start_time": "2024-11-25T06:46:37.103471",
     "status": "completed"
    },
    "tags": []
   },
   "source": [
    "## Çubuk Grafiği\n",
    "- Kategorik verileri temsil ettikleri değerlerle orantılı yükseklik ve uzunluktaki dikdörtgen çubuklarla sunan bir grafiktir."
   ]
  },
  {
   "cell_type": "code",
   "execution_count": 16,
   "id": "f04f46e5",
   "metadata": {
    "execution": {
     "iopub.execute_input": "2024-11-25T06:46:37.131077Z",
     "iopub.status.busy": "2024-11-25T06:46:37.130070Z",
     "iopub.status.idle": "2024-11-25T06:46:37.135724Z",
     "shell.execute_reply": "2024-11-25T06:46:37.134470Z"
    },
    "papermill": {
     "duration": 0.017709,
     "end_time": "2024-11-25T06:46:37.137796",
     "exception": false,
     "start_time": "2024-11-25T06:46:37.120087",
     "status": "completed"
    },
    "tags": []
   },
   "outputs": [],
   "source": [
    "# Kütüphaneleri içe aktaralm\n",
    "import matplotlib.pyplot as plt\n",
    "import pandas as pd"
   ]
  },
  {
   "cell_type": "code",
   "execution_count": 17,
   "id": "bc588158",
   "metadata": {
    "execution": {
     "iopub.execute_input": "2024-11-25T06:46:37.157565Z",
     "iopub.status.busy": "2024-11-25T06:46:37.157158Z",
     "iopub.status.idle": "2024-11-25T06:46:37.173388Z",
     "shell.execute_reply": "2024-11-25T06:46:37.172133Z"
    },
    "papermill": {
     "duration": 0.028854,
     "end_time": "2024-11-25T06:46:37.175812",
     "exception": false,
     "start_time": "2024-11-25T06:46:37.146958",
     "status": "completed"
    },
    "tags": []
   },
   "outputs": [
    {
     "data": {
      "text/html": [
       "<div>\n",
       "<style scoped>\n",
       "    .dataframe tbody tr th:only-of-type {\n",
       "        vertical-align: middle;\n",
       "    }\n",
       "\n",
       "    .dataframe tbody tr th {\n",
       "        vertical-align: top;\n",
       "    }\n",
       "\n",
       "    .dataframe thead th {\n",
       "        text-align: right;\n",
       "    }\n",
       "</style>\n",
       "<table border=\"1\" class=\"dataframe\">\n",
       "  <thead>\n",
       "    <tr style=\"text-align: right;\">\n",
       "      <th></th>\n",
       "      <th>Id</th>\n",
       "      <th>SepalLengthCm</th>\n",
       "      <th>SepalWidthCm</th>\n",
       "      <th>PetalLengthCm</th>\n",
       "      <th>PetalWidthCm</th>\n",
       "      <th>Species</th>\n",
       "    </tr>\n",
       "  </thead>\n",
       "  <tbody>\n",
       "    <tr>\n",
       "      <th>0</th>\n",
       "      <td>1</td>\n",
       "      <td>5.1</td>\n",
       "      <td>3.5</td>\n",
       "      <td>1.4</td>\n",
       "      <td>0.2</td>\n",
       "      <td>Iris-setosa</td>\n",
       "    </tr>\n",
       "    <tr>\n",
       "      <th>1</th>\n",
       "      <td>2</td>\n",
       "      <td>4.9</td>\n",
       "      <td>3.0</td>\n",
       "      <td>1.4</td>\n",
       "      <td>0.2</td>\n",
       "      <td>Iris-setosa</td>\n",
       "    </tr>\n",
       "    <tr>\n",
       "      <th>2</th>\n",
       "      <td>3</td>\n",
       "      <td>4.7</td>\n",
       "      <td>3.2</td>\n",
       "      <td>1.3</td>\n",
       "      <td>0.2</td>\n",
       "      <td>Iris-setosa</td>\n",
       "    </tr>\n",
       "    <tr>\n",
       "      <th>3</th>\n",
       "      <td>4</td>\n",
       "      <td>4.6</td>\n",
       "      <td>3.1</td>\n",
       "      <td>1.5</td>\n",
       "      <td>0.2</td>\n",
       "      <td>Iris-setosa</td>\n",
       "    </tr>\n",
       "    <tr>\n",
       "      <th>4</th>\n",
       "      <td>5</td>\n",
       "      <td>5.0</td>\n",
       "      <td>3.6</td>\n",
       "      <td>1.4</td>\n",
       "      <td>0.2</td>\n",
       "      <td>Iris-setosa</td>\n",
       "    </tr>\n",
       "  </tbody>\n",
       "</table>\n",
       "</div>"
      ],
      "text/plain": [
       "   Id  SepalLengthCm  SepalWidthCm  PetalLengthCm  PetalWidthCm      Species\n",
       "0   1            5.1           3.5            1.4           0.2  Iris-setosa\n",
       "1   2            4.9           3.0            1.4           0.2  Iris-setosa\n",
       "2   3            4.7           3.2            1.3           0.2  Iris-setosa\n",
       "3   4            4.6           3.1            1.5           0.2  Iris-setosa\n",
       "4   5            5.0           3.6            1.4           0.2  Iris-setosa"
      ]
     },
     "execution_count": 17,
     "metadata": {},
     "output_type": "execute_result"
    }
   ],
   "source": [
    "# Veri setimizi tekrar çağıralım\n",
    "veri = pd.read_csv('/kaggle/input/iriscsv/Iris.csv')\n",
    "veri.head()"
   ]
  },
  {
   "cell_type": "code",
   "execution_count": 18,
   "id": "4ff4d337",
   "metadata": {
    "execution": {
     "iopub.execute_input": "2024-11-25T06:46:37.195434Z",
     "iopub.status.busy": "2024-11-25T06:46:37.195043Z",
     "iopub.status.idle": "2024-11-25T06:46:37.218926Z",
     "shell.execute_reply": "2024-11-25T06:46:37.217791Z"
    },
    "papermill": {
     "duration": 0.036338,
     "end_time": "2024-11-25T06:46:37.221188",
     "exception": false,
     "start_time": "2024-11-25T06:46:37.184850",
     "status": "completed"
    },
    "tags": []
   },
   "outputs": [
    {
     "data": {
      "text/html": [
       "<div>\n",
       "<style scoped>\n",
       "    .dataframe tbody tr th:only-of-type {\n",
       "        vertical-align: middle;\n",
       "    }\n",
       "\n",
       "    .dataframe tbody tr th {\n",
       "        vertical-align: top;\n",
       "    }\n",
       "\n",
       "    .dataframe thead th {\n",
       "        text-align: right;\n",
       "    }\n",
       "</style>\n",
       "<table border=\"1\" class=\"dataframe\">\n",
       "  <thead>\n",
       "    <tr style=\"text-align: right;\">\n",
       "      <th></th>\n",
       "      <th>Id</th>\n",
       "      <th>SepalLengthCm</th>\n",
       "      <th>SepalWidthCm</th>\n",
       "      <th>PetalLengthCm</th>\n",
       "      <th>PetalWidthCm</th>\n",
       "    </tr>\n",
       "  </thead>\n",
       "  <tbody>\n",
       "    <tr>\n",
       "      <th>count</th>\n",
       "      <td>150.000000</td>\n",
       "      <td>150.000000</td>\n",
       "      <td>150.000000</td>\n",
       "      <td>150.000000</td>\n",
       "      <td>150.000000</td>\n",
       "    </tr>\n",
       "    <tr>\n",
       "      <th>mean</th>\n",
       "      <td>75.500000</td>\n",
       "      <td>5.843333</td>\n",
       "      <td>3.054000</td>\n",
       "      <td>3.758667</td>\n",
       "      <td>1.198667</td>\n",
       "    </tr>\n",
       "    <tr>\n",
       "      <th>std</th>\n",
       "      <td>43.445368</td>\n",
       "      <td>0.828066</td>\n",
       "      <td>0.433594</td>\n",
       "      <td>1.764420</td>\n",
       "      <td>0.763161</td>\n",
       "    </tr>\n",
       "    <tr>\n",
       "      <th>min</th>\n",
       "      <td>1.000000</td>\n",
       "      <td>4.300000</td>\n",
       "      <td>2.000000</td>\n",
       "      <td>1.000000</td>\n",
       "      <td>0.100000</td>\n",
       "    </tr>\n",
       "    <tr>\n",
       "      <th>25%</th>\n",
       "      <td>38.250000</td>\n",
       "      <td>5.100000</td>\n",
       "      <td>2.800000</td>\n",
       "      <td>1.600000</td>\n",
       "      <td>0.300000</td>\n",
       "    </tr>\n",
       "    <tr>\n",
       "      <th>50%</th>\n",
       "      <td>75.500000</td>\n",
       "      <td>5.800000</td>\n",
       "      <td>3.000000</td>\n",
       "      <td>4.350000</td>\n",
       "      <td>1.300000</td>\n",
       "    </tr>\n",
       "    <tr>\n",
       "      <th>75%</th>\n",
       "      <td>112.750000</td>\n",
       "      <td>6.400000</td>\n",
       "      <td>3.300000</td>\n",
       "      <td>5.100000</td>\n",
       "      <td>1.800000</td>\n",
       "    </tr>\n",
       "    <tr>\n",
       "      <th>max</th>\n",
       "      <td>150.000000</td>\n",
       "      <td>7.900000</td>\n",
       "      <td>4.400000</td>\n",
       "      <td>6.900000</td>\n",
       "      <td>2.500000</td>\n",
       "    </tr>\n",
       "  </tbody>\n",
       "</table>\n",
       "</div>"
      ],
      "text/plain": [
       "               Id  SepalLengthCm  SepalWidthCm  PetalLengthCm  PetalWidthCm\n",
       "count  150.000000     150.000000    150.000000     150.000000    150.000000\n",
       "mean    75.500000       5.843333      3.054000       3.758667      1.198667\n",
       "std     43.445368       0.828066      0.433594       1.764420      0.763161\n",
       "min      1.000000       4.300000      2.000000       1.000000      0.100000\n",
       "25%     38.250000       5.100000      2.800000       1.600000      0.300000\n",
       "50%     75.500000       5.800000      3.000000       4.350000      1.300000\n",
       "75%    112.750000       6.400000      3.300000       5.100000      1.800000\n",
       "max    150.000000       7.900000      4.400000       6.900000      2.500000"
      ]
     },
     "execution_count": 18,
     "metadata": {},
     "output_type": "execute_result"
    }
   ],
   "source": [
    "# Veri ile ilgili istatistiksel çıkarımlar\n",
    "veri_sutun_listesi = ['SepalLengthCm', 'SepalWidthCm', 'PetalLengthCm', 'PetalWidthCm']\n",
    "tanim = veri.describe()\n",
    "tanim"
   ]
  },
  {
   "cell_type": "code",
   "execution_count": 19,
   "id": "d907d806",
   "metadata": {
    "execution": {
     "iopub.execute_input": "2024-11-25T06:46:37.240721Z",
     "iopub.status.busy": "2024-11-25T06:46:37.240311Z",
     "iopub.status.idle": "2024-11-25T06:46:37.250883Z",
     "shell.execute_reply": "2024-11-25T06:46:37.249582Z"
    },
    "papermill": {
     "duration": 0.023091,
     "end_time": "2024-11-25T06:46:37.253221",
     "exception": false,
     "start_time": "2024-11-25T06:46:37.230130",
     "status": "completed"
    },
    "tags": []
   },
   "outputs": [
    {
     "data": {
      "text/plain": [
       "SepalLengthCm    5.843333\n",
       "SepalWidthCm     3.054000\n",
       "PetalLengthCm    3.758667\n",
       "PetalWidthCm     1.198667\n",
       "Name: mean, dtype: float64"
      ]
     },
     "execution_count": 19,
     "metadata": {},
     "output_type": "execute_result"
    }
   ],
   "source": [
    "# Alt yaprak uzunluk ve genişlik, Üst yaprak uzunluk ve genişlik ortalama değerlerini bulalım\n",
    "ortalama = tanim.iloc[1,[1,2,3,4]]\n",
    "ortalama"
   ]
  },
  {
   "cell_type": "code",
   "execution_count": 20,
   "id": "c92e4799",
   "metadata": {
    "execution": {
     "iopub.execute_input": "2024-11-25T06:46:37.273365Z",
     "iopub.status.busy": "2024-11-25T06:46:37.272919Z",
     "iopub.status.idle": "2024-11-25T06:46:37.510856Z",
     "shell.execute_reply": "2024-11-25T06:46:37.509722Z"
    },
    "papermill": {
     "duration": 0.250953,
     "end_time": "2024-11-25T06:46:37.513377",
     "exception": false,
     "start_time": "2024-11-25T06:46:37.262424",
     "status": "completed"
    },
    "tags": []
   },
   "outputs": [
    {
     "data": {
      "image/png": "[encoded data removed]",
      "text/plain": [
       "<Figure size 640x480 with 1 Axes>"
      ]
     },
     "metadata": {},
     "output_type": "display_data"
    }
   ],
   "source": [
    "# Alt-Üst yaprak uzunluk ve genişlik değerlerinin ortalamalarını çubuk grafiği ile çizdirelim\n",
    "plt.figure() # figür oluştur - dış çerçeve\n",
    "plt.bar(veri_sutun_listesi, ortalama)\n",
    "plt.title(\"Alt-Üst Yaprak Uzunluğu ve Genişliği Ortalama\")\n",
    "plt.ylabel(\"Cm\")\n",
    "plt.show()"
   ]
  },
  {
   "cell_type": "markdown",
   "id": "1851c694",
   "metadata": {
    "papermill": {
     "duration": 0.010518,
     "end_time": "2024-11-25T06:46:37.533616",
     "exception": false,
     "start_time": "2024-11-25T06:46:37.523098",
     "status": "completed"
    },
    "tags": []
   },
   "source": [
    "## Alt Plan Grafiği\n",
    "- Birden fazla grafik tek bir figür/çerçeve üzerinde bulunur."
   ]
  },
  {
   "cell_type": "code",
   "execution_count": 21,
   "id": "fc7c5a3d",
   "metadata": {
    "execution": {
     "iopub.execute_input": "2024-11-25T06:46:37.556126Z",
     "iopub.status.busy": "2024-11-25T06:46:37.555059Z",
     "iopub.status.idle": "2024-11-25T06:46:37.560962Z",
     "shell.execute_reply": "2024-11-25T06:46:37.559756Z"
    },
    "papermill": {
     "duration": 0.019186,
     "end_time": "2024-11-25T06:46:37.563254",
     "exception": false,
     "start_time": "2024-11-25T06:46:37.544068",
     "status": "completed"
    },
    "tags": []
   },
   "outputs": [],
   "source": [
    "# Kütüphaneleri içe aktaralm\n",
    "import matplotlib.pyplot as plt\n",
    "import pandas as pd"
   ]
  },
  {
   "cell_type": "code",
   "execution_count": 22,
   "id": "a653ef9b",
   "metadata": {
    "execution": {
     "iopub.execute_input": "2024-11-25T06:46:37.584495Z",
     "iopub.status.busy": "2024-11-25T06:46:37.584063Z",
     "iopub.status.idle": "2024-11-25T06:46:37.599451Z",
     "shell.execute_reply": "2024-11-25T06:46:37.598177Z"
    },
    "papermill": {
     "duration": 0.029316,
     "end_time": "2024-11-25T06:46:37.602158",
     "exception": false,
     "start_time": "2024-11-25T06:46:37.572842",
     "status": "completed"
    },
    "tags": []
   },
   "outputs": [
    {
     "data": {
      "text/html": [
       "<div>\n",
       "<style scoped>\n",
       "    .dataframe tbody tr th:only-of-type {\n",
       "        vertical-align: middle;\n",
       "    }\n",
       "\n",
       "    .dataframe tbody tr th {\n",
       "        vertical-align: top;\n",
       "    }\n",
       "\n",
       "    .dataframe thead th {\n",
       "        text-align: right;\n",
       "    }\n",
       "</style>\n",
       "<table border=\"1\" class=\"dataframe\">\n",
       "  <thead>\n",
       "    <tr style=\"text-align: right;\">\n",
       "      <th></th>\n",
       "      <th>Id</th>\n",
       "      <th>SepalLengthCm</th>\n",
       "      <th>SepalWidthCm</th>\n",
       "      <th>PetalLengthCm</th>\n",
       "      <th>PetalWidthCm</th>\n",
       "      <th>Species</th>\n",
       "    </tr>\n",
       "  </thead>\n",
       "  <tbody>\n",
       "    <tr>\n",
       "      <th>0</th>\n",
       "      <td>1</td>\n",
       "      <td>5.1</td>\n",
       "      <td>3.5</td>\n",
       "      <td>1.4</td>\n",
       "      <td>0.2</td>\n",
       "      <td>Iris-setosa</td>\n",
       "    </tr>\n",
       "    <tr>\n",
       "      <th>1</th>\n",
       "      <td>2</td>\n",
       "      <td>4.9</td>\n",
       "      <td>3.0</td>\n",
       "      <td>1.4</td>\n",
       "      <td>0.2</td>\n",
       "      <td>Iris-setosa</td>\n",
       "    </tr>\n",
       "    <tr>\n",
       "      <th>2</th>\n",
       "      <td>3</td>\n",
       "      <td>4.7</td>\n",
       "      <td>3.2</td>\n",
       "      <td>1.3</td>\n",
       "      <td>0.2</td>\n",
       "      <td>Iris-setosa</td>\n",
       "    </tr>\n",
       "    <tr>\n",
       "      <th>3</th>\n",
       "      <td>4</td>\n",
       "      <td>4.6</td>\n",
       "      <td>3.1</td>\n",
       "      <td>1.5</td>\n",
       "      <td>0.2</td>\n",
       "      <td>Iris-setosa</td>\n",
       "    </tr>\n",
       "    <tr>\n",
       "      <th>4</th>\n",
       "      <td>5</td>\n",
       "      <td>5.0</td>\n",
       "      <td>3.6</td>\n",
       "      <td>1.4</td>\n",
       "      <td>0.2</td>\n",
       "      <td>Iris-setosa</td>\n",
       "    </tr>\n",
       "  </tbody>\n",
       "</table>\n",
       "</div>"
      ],
      "text/plain": [
       "   Id  SepalLengthCm  SepalWidthCm  PetalLengthCm  PetalWidthCm      Species\n",
       "0   1            5.1           3.5            1.4           0.2  Iris-setosa\n",
       "1   2            4.9           3.0            1.4           0.2  Iris-setosa\n",
       "2   3            4.7           3.2            1.3           0.2  Iris-setosa\n",
       "3   4            4.6           3.1            1.5           0.2  Iris-setosa\n",
       "4   5            5.0           3.6            1.4           0.2  Iris-setosa"
      ]
     },
     "execution_count": 22,
     "metadata": {},
     "output_type": "execute_result"
    }
   ],
   "source": [
    "# Veri setimizi tekrar çağıralım\n",
    "veri = pd.read_csv('/kaggle/input/iriscsv/Iris.csv')\n",
    "veri.head()"
   ]
  },
  {
   "cell_type": "code",
   "execution_count": 23,
   "id": "2c64392b",
   "metadata": {
    "execution": {
     "iopub.execute_input": "2024-11-25T06:46:37.623614Z",
     "iopub.status.busy": "2024-11-25T06:46:37.623178Z",
     "iopub.status.idle": "2024-11-25T06:46:38.095464Z",
     "shell.execute_reply": "2024-11-25T06:46:38.094145Z"
    },
    "papermill": {
     "duration": 0.485881,
     "end_time": "2024-11-25T06:46:38.097886",
     "exception": false,
     "start_time": "2024-11-25T06:46:37.612005",
     "status": "completed"
    },
    "tags": []
   },
   "outputs": [
    {
     "data": {
      "image/png": "[encoded data removed]",
      "text/plain": [
       "<Figure size 640x480 with 2 Axes>"
      ]
     },
     "metadata": {},
     "output_type": "display_data"
    }
   ],
   "source": [
    "fig, ax = plt.subplots(2,1) # figür üzerine 2*1'lik bir tablo oluştur. Bu tablo üzerine ax(eksek) ekle\n",
    "fig.suptitle(\"Alt Yaprak Uzunluk ve Üst Yaprak Uzunluk\", fontsize = 14)\n",
    "ax[0].plot(veri.Id, veri.SepalLengthCm, color = \"red\", label = \"SepalLengthCm\")\n",
    "ax[0].set_title('Alt Yaprak Uzunluk') # Boşluk\n",
    "ax[0].set_xlabel(\"id\")\n",
    "ax[0].set_ylabel(\"Cm\")\n",
    "\n",
    "ax[1].plot(veri.Id, veri.PetalLengthCm, color = \"green\", label = \"PetalLengthCm\")\n",
    "ax[0].set_title('Üst Yaprak Uzunluk') # Boşluk\n",
    "ax[0].set_xlabel(\"id\")\n",
    "ax[0].set_ylabel(\"Cm\")\n",
    "\n",
    "fig.tight_layout() # Figür arası yerleşimi ayarla\n",
    "fig.subplots_adjust(top = 0.85)\n",
    "plt.show()"
   ]
  }
 ],
 "metadata": {
  "kaggle": {
   "accelerator": "none",
   "dataSources": [
    {
     "datasetId": 4247,
     "sourceId": 6570,
     "sourceType": "datasetVersion"
    }
   ],
   "dockerImageVersionId": 30786,
   "isGpuEnabled": false,
   "isInternetEnabled": true,
   "language": "python",
   "sourceType": "notebook"
  },
  "kernelspec": {
   "display_name": "Python 3",
   "language": "python",
   "name": "python3"
  },
  "language_info": {
   "codemirror_mode": {
    "name": "ipython",
    "version": 3
   },
   "file_extension": ".py",
   "mimetype": "text/x-python",
   "name": "python",
   "nbconvert_exporter": "python",
   "pygments_lexer": "ipython3",
   "version": "3.10.14"
  },
  "papermill": {
   "default_parameters": {},
   "duration": 6.802242,
   "end_time": "2024-11-25T06:46:38.631563",
   "environment_variables": {},
   "exception": null,
   "input_path": "__notebook__.ipynb",
   "output_path": "__notebook__.ipynb",
   "parameters": {},
   "start_time": "2024-11-25T06:46:31.829321",
   "version": "2.6.0"
  }
 },
 "nbformat": 4,
 "nbformat_minor": 5
}
