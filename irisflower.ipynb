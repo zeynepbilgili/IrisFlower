{
 "cells": [
  {
   "cell_type": "code",
   "execution_count": 1,
   "id": "01cd1f00",
   "metadata": {
    "_cell_guid": "b1076dfc-b9ad-4769-8c92-a6c4dae69d19",
    "_uuid": "8f2839f25d086af736a60e9eeb907d3b93b6e0e5",
    "execution": {
     "iopub.execute_input": "2024-11-30T18:33:26.300013Z",
     "iopub.status.busy": "2024-11-30T18:33:26.299581Z",
     "iopub.status.idle": "2024-11-30T18:33:27.318516Z",
     "shell.execute_reply": "2024-11-30T18:33:27.317156Z"
    },
    "papermill": {
     "duration": 1.02987,
     "end_time": "2024-11-30T18:33:27.321025",
     "exception": false,
     "start_time": "2024-11-30T18:33:26.291155",
     "status": "completed"
    },
    "tags": []
   },
   "outputs": [
    {
     "name": "stdout",
     "output_type": "stream",
     "text": [
      "/kaggle/input/iriscsv/Iris.csv\n"
     ]
    }
   ],
   "source": [
    "# This Python 3 environment comes with many helpful analytics libraries installed\n",
    "# It is defined by the kaggle/python Docker image: https://github.com/kaggle/docker-python\n",
    "# For example, here's several helpful packages to load\n",
    "\n",
    "import numpy as np # linear algebra\n",
    "import pandas as pd # data processing, CSV file I/O (e.g. pd.read_csv)\n",
    "\n",
    "# Input data files are available in the read-only \"../input/\" directory\n",
    "# For example, running this (by clicking run or pressing Shift+Enter) will list all files under the input directory\n",
    "\n",
    "import os\n",
    "for dirname, _, filenames in os.walk('/kaggle/input'):\n",
    "    for filename in filenames:\n",
    "        print(os.path.join(dirname, filename))\n",
    "\n",
    "# You can write up to 20GB to the current directory (/kaggle/working/) that gets preserved as output when you create a version using \"Save & Run All\" \n",
    "# You can also write temporary files to /kaggle/temp/, but they won't be saved outside of the current session"
   ]
  },
  {
   "cell_type": "markdown",
   "id": "cfb5841e",
   "metadata": {
    "papermill": {
     "duration": 0.005634,
     "end_time": "2024-11-30T18:33:27.333153",
     "exception": false,
     "start_time": "2024-11-30T18:33:27.327519",
     "status": "completed"
    },
    "tags": []
   },
   "source": [
    "# <p style=\"background-color:#cbb3ff; font-family:newtimeroman;color:#110033; font-size:125%; border-radius: 50px 15px ; padding: 0 15px ; margin-bottom: 0;\"> 1. Veri Seti Tanıma </p>"
   ]
  },
  {
   "cell_type": "markdown",
   "id": "8cc2690c",
   "metadata": {
    "papermill": {
     "duration": 0.005705,
     "end_time": "2024-11-30T18:33:27.345272",
     "exception": false,
     "start_time": "2024-11-30T18:33:27.339567",
     "status": "completed"
    },
    "tags": []
   },
   "source": [
    "<div style=\"padding: 10px; background-color: #eee6ff; font-size:100%; text-align:left\">\n",
    "    \n",
    "* Iris çiçek veri setini kullanacağız. \n",
    "* Iris veri seti veya Fisher Iris veri seti, 1936 tarihli makalesinde İngiliz istatistikçi, dijeni uzmanı ve biyolog Ronald Fisher tarafından tanıtılan çok değişkenli bir veri setidir.\n",
    "* İçerisinde üç farklı sınıf bulunmaktadır. Bunlar setosa, versicolor ve virginica'dır."
   ]
  },
  {
   "cell_type": "code",
   "execution_count": 2,
   "id": "9975fe01",
   "metadata": {
    "execution": {
     "iopub.execute_input": "2024-11-30T18:33:27.358831Z",
     "iopub.status.busy": "2024-11-30T18:33:27.358317Z",
     "iopub.status.idle": "2024-11-30T18:33:27.363430Z",
     "shell.execute_reply": "2024-11-30T18:33:27.362166Z"
    },
    "papermill": {
     "duration": 0.014835,
     "end_time": "2024-11-30T18:33:27.365979",
     "exception": false,
     "start_time": "2024-11-30T18:33:27.351144",
     "status": "completed"
    },
    "tags": []
   },
   "outputs": [],
   "source": [
    "# Pandas kütüphanesini yükleleyim\n",
    "import pandas as pd"
   ]
  },
  {
   "cell_type": "code",
   "execution_count": 3,
   "id": "a0066032",
   "metadata": {
    "execution": {
     "iopub.execute_input": "2024-11-30T18:33:27.381006Z",
     "iopub.status.busy": "2024-11-30T18:33:27.380565Z",
     "iopub.status.idle": "2024-11-30T18:33:27.418761Z",
     "shell.execute_reply": "2024-11-30T18:33:27.417489Z"
    },
    "papermill": {
     "duration": 0.047849,
     "end_time": "2024-11-30T18:33:27.421076",
     "exception": false,
     "start_time": "2024-11-30T18:33:27.373227",
     "status": "completed"
    },
    "tags": []
   },
   "outputs": [
    {
     "data": {
      "text/html": [
       "<div>\n",
       "<style scoped>\n",
       "    .dataframe tbody tr th:only-of-type {\n",
       "        vertical-align: middle;\n",
       "    }\n",
       "\n",
       "    .dataframe tbody tr th {\n",
       "        vertical-align: top;\n",
       "    }\n",
       "\n",
       "    .dataframe thead th {\n",
       "        text-align: right;\n",
       "    }\n",
       "</style>\n",
       "<table border=\"1\" class=\"dataframe\">\n",
       "  <thead>\n",
       "    <tr style=\"text-align: right;\">\n",
       "      <th></th>\n",
       "      <th>Id</th>\n",
       "      <th>SepalLengthCm</th>\n",
       "      <th>SepalWidthCm</th>\n",
       "      <th>PetalLengthCm</th>\n",
       "      <th>PetalWidthCm</th>\n",
       "      <th>Species</th>\n",
       "    </tr>\n",
       "  </thead>\n",
       "  <tbody>\n",
       "    <tr>\n",
       "      <th>0</th>\n",
       "      <td>1</td>\n",
       "      <td>5.1</td>\n",
       "      <td>3.5</td>\n",
       "      <td>1.4</td>\n",
       "      <td>0.2</td>\n",
       "      <td>Iris-setosa</td>\n",
       "    </tr>\n",
       "    <tr>\n",
       "      <th>1</th>\n",
       "      <td>2</td>\n",
       "      <td>4.9</td>\n",
       "      <td>3.0</td>\n",
       "      <td>1.4</td>\n",
       "      <td>0.2</td>\n",
       "      <td>Iris-setosa</td>\n",
       "    </tr>\n",
       "    <tr>\n",
       "      <th>2</th>\n",
       "      <td>3</td>\n",
       "      <td>4.7</td>\n",
       "      <td>3.2</td>\n",
       "      <td>1.3</td>\n",
       "      <td>0.2</td>\n",
       "      <td>Iris-setosa</td>\n",
       "    </tr>\n",
       "    <tr>\n",
       "      <th>3</th>\n",
       "      <td>4</td>\n",
       "      <td>4.6</td>\n",
       "      <td>3.1</td>\n",
       "      <td>1.5</td>\n",
       "      <td>0.2</td>\n",
       "      <td>Iris-setosa</td>\n",
       "    </tr>\n",
       "    <tr>\n",
       "      <th>4</th>\n",
       "      <td>5</td>\n",
       "      <td>5.0</td>\n",
       "      <td>3.6</td>\n",
       "      <td>1.4</td>\n",
       "      <td>0.2</td>\n",
       "      <td>Iris-setosa</td>\n",
       "    </tr>\n",
       "  </tbody>\n",
       "</table>\n",
       "</div>"
      ],
      "text/plain": [
       "   Id  SepalLengthCm  SepalWidthCm  PetalLengthCm  PetalWidthCm      Species\n",
       "0   1            5.1           3.5            1.4           0.2  Iris-setosa\n",
       "1   2            4.9           3.0            1.4           0.2  Iris-setosa\n",
       "2   3            4.7           3.2            1.3           0.2  Iris-setosa\n",
       "3   4            4.6           3.1            1.5           0.2  Iris-setosa\n",
       "4   5            5.0           3.6            1.4           0.2  Iris-setosa"
      ]
     },
     "execution_count": 3,
     "metadata": {},
     "output_type": "execute_result"
    }
   ],
   "source": [
    "# Veri setini yükleyelim \n",
    "veri = pd.read_csv('/kaggle/input/iriscsv/Iris.csv')\n",
    "veri.head()"
   ]
  },
  {
   "cell_type": "markdown",
   "id": "d5f56a92",
   "metadata": {
    "papermill": {
     "duration": 0.006366,
     "end_time": "2024-11-30T18:33:27.433751",
     "exception": false,
     "start_time": "2024-11-30T18:33:27.427385",
     "status": "completed"
    },
    "tags": []
   },
   "source": [
    "<div style=\"padding: 10px; background-color: #eee6ff; font-size:100%; text-align:left\">\n",
    "\n",
    "\n",
    "- Her bir satır, bir çieğe ait ölçüm değerlerini gösterir.\n",
    "- Özellikler sırasıyla SepalLengthCm (alt yaprak uzunluğu cm), SepalWidthCm (alt yaprak genişliği cm), PetalLengthCm (üst yaprak uzunluğu cm), PetalWidthCm (üst yaprak genişlik cm).\n",
    "- Sınıflarımız ise setosa, versicolor, virginica."
   ]
  },
  {
   "cell_type": "code",
   "execution_count": 4,
   "id": "65128b7e",
   "metadata": {
    "execution": {
     "iopub.execute_input": "2024-11-30T18:33:27.447914Z",
     "iopub.status.busy": "2024-11-30T18:33:27.447502Z",
     "iopub.status.idle": "2024-11-30T18:33:27.455320Z",
     "shell.execute_reply": "2024-11-30T18:33:27.454057Z"
    },
    "papermill": {
     "duration": 0.017343,
     "end_time": "2024-11-30T18:33:27.457431",
     "exception": false,
     "start_time": "2024-11-30T18:33:27.440088",
     "status": "completed"
    },
    "tags": []
   },
   "outputs": [
    {
     "data": {
      "text/plain": [
       "Index(['Id', 'SepalLengthCm', 'SepalWidthCm', 'PetalLengthCm', 'PetalWidthCm',\n",
       "       'Species'],\n",
       "      dtype='object')"
      ]
     },
     "execution_count": 4,
     "metadata": {},
     "output_type": "execute_result"
    }
   ],
   "source": [
    "# Sütunların isimleri\n",
    "veri.columns"
   ]
  },
  {
   "cell_type": "code",
   "execution_count": 5,
   "id": "fd904cb0",
   "metadata": {
    "execution": {
     "iopub.execute_input": "2024-11-30T18:33:27.472300Z",
     "iopub.status.busy": "2024-11-30T18:33:27.471845Z",
     "iopub.status.idle": "2024-11-30T18:33:27.483579Z",
     "shell.execute_reply": "2024-11-30T18:33:27.482399Z"
    },
    "papermill": {
     "duration": 0.021814,
     "end_time": "2024-11-30T18:33:27.485790",
     "exception": false,
     "start_time": "2024-11-30T18:33:27.463976",
     "status": "completed"
    },
    "tags": []
   },
   "outputs": [
    {
     "data": {
      "text/plain": [
       "array(['Iris-setosa', 'Iris-versicolor', 'Iris-virginica'], dtype=object)"
      ]
     },
     "execution_count": 5,
     "metadata": {},
     "output_type": "execute_result"
    }
   ],
   "source": [
    "# Veri içerisinde kaç tane sınıf olduğuna bakalım\n",
    "veri.Species.unique()"
   ]
  },
  {
   "cell_type": "code",
   "execution_count": 6,
   "id": "97860191",
   "metadata": {
    "execution": {
     "iopub.execute_input": "2024-11-30T18:33:27.500689Z",
     "iopub.status.busy": "2024-11-30T18:33:27.500252Z",
     "iopub.status.idle": "2024-11-30T18:33:27.527395Z",
     "shell.execute_reply": "2024-11-30T18:33:27.526030Z"
    },
    "papermill": {
     "duration": 0.037929,
     "end_time": "2024-11-30T18:33:27.530154",
     "exception": false,
     "start_time": "2024-11-30T18:33:27.492225",
     "status": "completed"
    },
    "tags": []
   },
   "outputs": [
    {
     "name": "stdout",
     "output_type": "stream",
     "text": [
      "<class 'pandas.core.frame.DataFrame'>\n",
      "RangeIndex: 150 entries, 0 to 149\n",
      "Data columns (total 6 columns):\n",
      " #   Column         Non-Null Count  Dtype  \n",
      "---  ------         --------------  -----  \n",
      " 0   Id             150 non-null    int64  \n",
      " 1   SepalLengthCm  150 non-null    float64\n",
      " 2   SepalWidthCm   150 non-null    float64\n",
      " 3   PetalLengthCm  150 non-null    float64\n",
      " 4   PetalWidthCm   150 non-null    float64\n",
      " 5   Species        150 non-null    object \n",
      "dtypes: float64(4), int64(1), object(1)\n",
      "memory usage: 7.2+ KB\n"
     ]
    }
   ],
   "source": [
    "# Veri ile ilgili bilgi\n",
    "veri.info()"
   ]
  },
  {
   "cell_type": "code",
   "execution_count": 7,
   "id": "5804b657",
   "metadata": {
    "execution": {
     "iopub.execute_input": "2024-11-30T18:33:27.545592Z",
     "iopub.status.busy": "2024-11-30T18:33:27.545155Z",
     "iopub.status.idle": "2024-11-30T18:33:27.574786Z",
     "shell.execute_reply": "2024-11-30T18:33:27.573568Z"
    },
    "papermill": {
     "duration": 0.04029,
     "end_time": "2024-11-30T18:33:27.577313",
     "exception": false,
     "start_time": "2024-11-30T18:33:27.537023",
     "status": "completed"
    },
    "tags": []
   },
   "outputs": [
    {
     "data": {
      "text/html": [
       "<div>\n",
       "<style scoped>\n",
       "    .dataframe tbody tr th:only-of-type {\n",
       "        vertical-align: middle;\n",
       "    }\n",
       "\n",
       "    .dataframe tbody tr th {\n",
       "        vertical-align: top;\n",
       "    }\n",
       "\n",
       "    .dataframe thead th {\n",
       "        text-align: right;\n",
       "    }\n",
       "</style>\n",
       "<table border=\"1\" class=\"dataframe\">\n",
       "  <thead>\n",
       "    <tr style=\"text-align: right;\">\n",
       "      <th></th>\n",
       "      <th>Id</th>\n",
       "      <th>SepalLengthCm</th>\n",
       "      <th>SepalWidthCm</th>\n",
       "      <th>PetalLengthCm</th>\n",
       "      <th>PetalWidthCm</th>\n",
       "    </tr>\n",
       "  </thead>\n",
       "  <tbody>\n",
       "    <tr>\n",
       "      <th>count</th>\n",
       "      <td>150.000000</td>\n",
       "      <td>150.000000</td>\n",
       "      <td>150.000000</td>\n",
       "      <td>150.000000</td>\n",
       "      <td>150.000000</td>\n",
       "    </tr>\n",
       "    <tr>\n",
       "      <th>mean</th>\n",
       "      <td>75.500000</td>\n",
       "      <td>5.843333</td>\n",
       "      <td>3.054000</td>\n",
       "      <td>3.758667</td>\n",
       "      <td>1.198667</td>\n",
       "    </tr>\n",
       "    <tr>\n",
       "      <th>std</th>\n",
       "      <td>43.445368</td>\n",
       "      <td>0.828066</td>\n",
       "      <td>0.433594</td>\n",
       "      <td>1.764420</td>\n",
       "      <td>0.763161</td>\n",
       "    </tr>\n",
       "    <tr>\n",
       "      <th>min</th>\n",
       "      <td>1.000000</td>\n",
       "      <td>4.300000</td>\n",
       "      <td>2.000000</td>\n",
       "      <td>1.000000</td>\n",
       "      <td>0.100000</td>\n",
       "    </tr>\n",
       "    <tr>\n",
       "      <th>25%</th>\n",
       "      <td>38.250000</td>\n",
       "      <td>5.100000</td>\n",
       "      <td>2.800000</td>\n",
       "      <td>1.600000</td>\n",
       "      <td>0.300000</td>\n",
       "    </tr>\n",
       "    <tr>\n",
       "      <th>50%</th>\n",
       "      <td>75.500000</td>\n",
       "      <td>5.800000</td>\n",
       "      <td>3.000000</td>\n",
       "      <td>4.350000</td>\n",
       "      <td>1.300000</td>\n",
       "    </tr>\n",
       "    <tr>\n",
       "      <th>75%</th>\n",
       "      <td>112.750000</td>\n",
       "      <td>6.400000</td>\n",
       "      <td>3.300000</td>\n",
       "      <td>5.100000</td>\n",
       "      <td>1.800000</td>\n",
       "    </tr>\n",
       "    <tr>\n",
       "      <th>max</th>\n",
       "      <td>150.000000</td>\n",
       "      <td>7.900000</td>\n",
       "      <td>4.400000</td>\n",
       "      <td>6.900000</td>\n",
       "      <td>2.500000</td>\n",
       "    </tr>\n",
       "  </tbody>\n",
       "</table>\n",
       "</div>"
      ],
      "text/plain": [
       "               Id  SepalLengthCm  SepalWidthCm  PetalLengthCm  PetalWidthCm\n",
       "count  150.000000     150.000000    150.000000     150.000000    150.000000\n",
       "mean    75.500000       5.843333      3.054000       3.758667      1.198667\n",
       "std     43.445368       0.828066      0.433594       1.764420      0.763161\n",
       "min      1.000000       4.300000      2.000000       1.000000      0.100000\n",
       "25%     38.250000       5.100000      2.800000       1.600000      0.300000\n",
       "50%     75.500000       5.800000      3.000000       4.350000      1.300000\n",
       "75%    112.750000       6.400000      3.300000       5.100000      1.800000\n",
       "max    150.000000       7.900000      4.400000       6.900000      2.500000"
      ]
     },
     "execution_count": 7,
     "metadata": {},
     "output_type": "execute_result"
    }
   ],
   "source": [
    "# Veri ile ilgili istatistiksel çıkarımlar\n",
    "veri.describe()"
   ]
  },
  {
   "cell_type": "markdown",
   "id": "8042b6f2",
   "metadata": {
    "papermill": {
     "duration": 0.006706,
     "end_time": "2024-11-30T18:33:27.590865",
     "exception": false,
     "start_time": "2024-11-30T18:33:27.584159",
     "status": "completed"
    },
    "tags": []
   },
   "source": [
    "# <p style=\"background-color:#cbb3ff; font-family:newtimeroman;color:#110033; font-size:125%; border-radius: 50px 15px ; padding: 0 15px ; margin-bottom: 0;\"> 2. Çizgi Grafiği </p>\n",
    "* Birbirine bağlanan düz çizgi parçalarının veri noktaları serisinin bilgisini gösteren bir tür çizimdir."
   ]
  },
  {
   "cell_type": "code",
   "execution_count": 8,
   "id": "767889b0",
   "metadata": {
    "execution": {
     "iopub.execute_input": "2024-11-30T18:33:27.606116Z",
     "iopub.status.busy": "2024-11-30T18:33:27.605679Z",
     "iopub.status.idle": "2024-11-30T18:33:27.610716Z",
     "shell.execute_reply": "2024-11-30T18:33:27.609569Z"
    },
    "papermill": {
     "duration": 0.015301,
     "end_time": "2024-11-30T18:33:27.613075",
     "exception": false,
     "start_time": "2024-11-30T18:33:27.597774",
     "status": "completed"
    },
    "tags": []
   },
   "outputs": [],
   "source": [
    "# Matplotlib kütüphanesini yükleyelim \n",
    "import matplotlib.pyplot as plt"
   ]
  },
  {
   "cell_type": "code",
   "execution_count": 9,
   "id": "5b995742",
   "metadata": {
    "execution": {
     "iopub.execute_input": "2024-11-30T18:33:27.628486Z",
     "iopub.status.busy": "2024-11-30T18:33:27.628067Z",
     "iopub.status.idle": "2024-11-30T18:33:27.954206Z",
     "shell.execute_reply": "2024-11-30T18:33:27.952933Z"
    },
    "papermill": {
     "duration": 0.336746,
     "end_time": "2024-11-30T18:33:27.956685",
     "exception": false,
     "start_time": "2024-11-30T18:33:27.619939",
     "status": "completed"
    },
    "tags": []
   },
   "outputs": [
    {
     "data": {
      "image/png": "[encoded data removed]",
      "text/plain": [
       "<Figure size 640x480 with 1 Axes>"
      ]
     },
     "metadata": {},
     "output_type": "display_data"
    }
   ],
   "source": [
    "# Sepal Length sütununu id'ye göre çizdirelim\n",
    "plt.figure()  # Figür oluştur - dış çerçeve\n",
    "plt.plot(veri[\"Id\"], veri['SepalLengthCm'], color = \"red\", alpha = 0.7)  # alpha = saydamlık\n",
    "plt.title('Alt Yaprak Uzunluğu') # Başlık\n",
    "plt.xlabel(\"id\")\n",
    "plt.ylabel(\"Cm\")\n",
    "plt.grid(True) # Izgara var\n",
    "plt.show()"
   ]
  },
  {
   "cell_type": "markdown",
   "id": "da9c593a",
   "metadata": {
    "papermill": {
     "duration": 0.007306,
     "end_time": "2024-11-30T18:33:27.971687",
     "exception": false,
     "start_time": "2024-11-30T18:33:27.964381",
     "status": "completed"
    },
    "tags": []
   },
   "source": [
    "# <p style=\"background-color:#cbb3ff; font-family:newtimeroman;color:#110033; font-size:125%; border-radius: 50px 15px ; padding: 0 15px ; margin-bottom: 0;\"> 3. Saçılım Grafiği </p>\n",
    "*  İki farklı değişkenin arasındaki ilişkiyi belirlemek için kullanılır.\n",
    "*  Aralarındaki ilişkinin sebebi görülemese de, ilgili iki değişkenin arasında direkt olarak bir ilişki bulunup bulunmadığı ve bu ilişnin ne derece olduğu görülebilir."
   ]
  },
  {
   "cell_type": "code",
   "execution_count": 10,
   "id": "315cad81",
   "metadata": {
    "execution": {
     "iopub.execute_input": "2024-11-30T18:33:27.989050Z",
     "iopub.status.busy": "2024-11-30T18:33:27.988618Z",
     "iopub.status.idle": "2024-11-30T18:33:27.994002Z",
     "shell.execute_reply": "2024-11-30T18:33:27.992663Z"
    },
    "papermill": {
     "duration": 0.017267,
     "end_time": "2024-11-30T18:33:27.996603",
     "exception": false,
     "start_time": "2024-11-30T18:33:27.979336",
     "status": "completed"
    },
    "tags": []
   },
   "outputs": [],
   "source": [
    "# Kütüphaneleri içe aktaralm\n",
    "import matplotlib.pyplot as plt\n",
    "import pandas as pd"
   ]
  },
  {
   "cell_type": "code",
   "execution_count": 11,
   "id": "7873a6ca",
   "metadata": {
    "execution": {
     "iopub.execute_input": "2024-11-30T18:33:28.015396Z",
     "iopub.status.busy": "2024-11-30T18:33:28.014501Z",
     "iopub.status.idle": "2024-11-30T18:33:28.033326Z",
     "shell.execute_reply": "2024-11-30T18:33:28.031686Z"
    },
    "papermill": {
     "duration": 0.032017,
     "end_time": "2024-11-30T18:33:28.036329",
     "exception": false,
     "start_time": "2024-11-30T18:33:28.004312",
     "status": "completed"
    },
    "tags": []
   },
   "outputs": [
    {
     "data": {
      "text/html": [
       "<div>\n",
       "<style scoped>\n",
       "    .dataframe tbody tr th:only-of-type {\n",
       "        vertical-align: middle;\n",
       "    }\n",
       "\n",
       "    .dataframe tbody tr th {\n",
       "        vertical-align: top;\n",
       "    }\n",
       "\n",
       "    .dataframe thead th {\n",
       "        text-align: right;\n",
       "    }\n",
       "</style>\n",
       "<table border=\"1\" class=\"dataframe\">\n",
       "  <thead>\n",
       "    <tr style=\"text-align: right;\">\n",
       "      <th></th>\n",
       "      <th>Id</th>\n",
       "      <th>SepalLengthCm</th>\n",
       "      <th>SepalWidthCm</th>\n",
       "      <th>PetalLengthCm</th>\n",
       "      <th>PetalWidthCm</th>\n",
       "      <th>Species</th>\n",
       "    </tr>\n",
       "  </thead>\n",
       "  <tbody>\n",
       "    <tr>\n",
       "      <th>0</th>\n",
       "      <td>1</td>\n",
       "      <td>5.1</td>\n",
       "      <td>3.5</td>\n",
       "      <td>1.4</td>\n",
       "      <td>0.2</td>\n",
       "      <td>Iris-setosa</td>\n",
       "    </tr>\n",
       "    <tr>\n",
       "      <th>1</th>\n",
       "      <td>2</td>\n",
       "      <td>4.9</td>\n",
       "      <td>3.0</td>\n",
       "      <td>1.4</td>\n",
       "      <td>0.2</td>\n",
       "      <td>Iris-setosa</td>\n",
       "    </tr>\n",
       "    <tr>\n",
       "      <th>2</th>\n",
       "      <td>3</td>\n",
       "      <td>4.7</td>\n",
       "      <td>3.2</td>\n",
       "      <td>1.3</td>\n",
       "      <td>0.2</td>\n",
       "      <td>Iris-setosa</td>\n",
       "    </tr>\n",
       "    <tr>\n",
       "      <th>3</th>\n",
       "      <td>4</td>\n",
       "      <td>4.6</td>\n",
       "      <td>3.1</td>\n",
       "      <td>1.5</td>\n",
       "      <td>0.2</td>\n",
       "      <td>Iris-setosa</td>\n",
       "    </tr>\n",
       "    <tr>\n",
       "      <th>4</th>\n",
       "      <td>5</td>\n",
       "      <td>5.0</td>\n",
       "      <td>3.6</td>\n",
       "      <td>1.4</td>\n",
       "      <td>0.2</td>\n",
       "      <td>Iris-setosa</td>\n",
       "    </tr>\n",
       "  </tbody>\n",
       "</table>\n",
       "</div>"
      ],
      "text/plain": [
       "   Id  SepalLengthCm  SepalWidthCm  PetalLengthCm  PetalWidthCm      Species\n",
       "0   1            5.1           3.5            1.4           0.2  Iris-setosa\n",
       "1   2            4.9           3.0            1.4           0.2  Iris-setosa\n",
       "2   3            4.7           3.2            1.3           0.2  Iris-setosa\n",
       "3   4            4.6           3.1            1.5           0.2  Iris-setosa\n",
       "4   5            5.0           3.6            1.4           0.2  Iris-setosa"
      ]
     },
     "execution_count": 11,
     "metadata": {},
     "output_type": "execute_result"
    }
   ],
   "source": [
    "# Veri setimizi tekrar çağıralım\n",
    "veri = pd.read_csv('/kaggle/input/iriscsv/Iris.csv')\n",
    "veri.head()"
   ]
  },
  {
   "cell_type": "code",
   "execution_count": 12,
   "id": "325a50b0",
   "metadata": {
    "execution": {
     "iopub.execute_input": "2024-11-30T18:33:28.055770Z",
     "iopub.status.busy": "2024-11-30T18:33:28.054734Z",
     "iopub.status.idle": "2024-11-30T18:33:28.359834Z",
     "shell.execute_reply": "2024-11-30T18:33:28.358713Z"
    },
    "papermill": {
     "duration": 0.317945,
     "end_time": "2024-11-30T18:33:28.362362",
     "exception": false,
     "start_time": "2024-11-30T18:33:28.044417",
     "status": "completed"
    },
    "tags": []
   },
   "outputs": [
    {
     "data": {
      "image/png": "[encoded data removed]",
      "text/plain": [
       "<Figure size 640x480 with 1 Axes>"
      ]
     },
     "metadata": {},
     "output_type": "display_data"
    }
   ],
   "source": [
    "# Sepal Width sütununu Selap Length'e göre çizdirelim\n",
    "plt.figure() # figür oluştur - dış çerçeve\n",
    "plt.scatter(veri[\"SepalLengthCm\"], veri['SepalWidthCm'], color = \"blue\", s = 15, alpha = 0.7) # alpha = saydamlık, s = size\n",
    "plt.title(\"Alt Yaprak Uzunluğu ve Genişliği\") # Başlık\n",
    "plt.xlabel(\"Alt Yaprak Uzunluğu (Cm)\")\n",
    "plt.ylabel(\"Alt Yaprak Genişliği (Cm)\")\n",
    "plt.grid(True) # Izgara var\n",
    "plt.show()"
   ]
  },
  {
   "cell_type": "markdown",
   "id": "d1b5c403",
   "metadata": {
    "papermill": {
     "duration": 0.008275,
     "end_time": "2024-11-30T18:33:28.379654",
     "exception": false,
     "start_time": "2024-11-30T18:33:28.371379",
     "status": "completed"
    },
    "tags": []
   },
   "source": [
    "# <p style=\"background-color:#cbb3ff; font-family:newtimeroman;color:#110033; font-size:125%; border-radius: 50px 15px ; padding: 0 15px ; margin-bottom: 0;\"> 4. Histogram Grafiği  </p>\n",
    "* Gruplandırılmış bir veri dağılımının sütun grafiğiyle gösterimidir.\n",
    "* Diğer bir ifade ile, tekrarlı sayılardan oluşan verilerin, uygulanan işlemlerden sonra  önce tabloya, tablodan yararlanarak grafiğe aktarılması, yani gruplarının grafiğinin dikförtgen sütunlar halinde gösterilmesidir.\n"
   ]
  },
  {
   "cell_type": "code",
   "execution_count": 13,
   "id": "8859b6a8",
   "metadata": {
    "execution": {
     "iopub.execute_input": "2024-11-30T18:33:28.398545Z",
     "iopub.status.busy": "2024-11-30T18:33:28.398147Z",
     "iopub.status.idle": "2024-11-30T18:33:28.403665Z",
     "shell.execute_reply": "2024-11-30T18:33:28.402439Z"
    },
    "papermill": {
     "duration": 0.017762,
     "end_time": "2024-11-30T18:33:28.405784",
     "exception": false,
     "start_time": "2024-11-30T18:33:28.388022",
     "status": "completed"
    },
    "tags": []
   },
   "outputs": [],
   "source": [
    "# Kütüphaneleri içe aktaralm\n",
    "import matplotlib.pyplot as plt\n",
    "import pandas as pd"
   ]
  },
  {
   "cell_type": "code",
   "execution_count": 14,
   "id": "5e037210",
   "metadata": {
    "execution": {
     "iopub.execute_input": "2024-11-30T18:33:28.424783Z",
     "iopub.status.busy": "2024-11-30T18:33:28.424360Z",
     "iopub.status.idle": "2024-11-30T18:33:28.441176Z",
     "shell.execute_reply": "2024-11-30T18:33:28.440056Z"
    },
    "papermill": {
     "duration": 0.029185,
     "end_time": "2024-11-30T18:33:28.443488",
     "exception": false,
     "start_time": "2024-11-30T18:33:28.414303",
     "status": "completed"
    },
    "tags": []
   },
   "outputs": [
    {
     "data": {
      "text/html": [
       "<div>\n",
       "<style scoped>\n",
       "    .dataframe tbody tr th:only-of-type {\n",
       "        vertical-align: middle;\n",
       "    }\n",
       "\n",
       "    .dataframe tbody tr th {\n",
       "        vertical-align: top;\n",
       "    }\n",
       "\n",
       "    .dataframe thead th {\n",
       "        text-align: right;\n",
       "    }\n",
       "</style>\n",
       "<table border=\"1\" class=\"dataframe\">\n",
       "  <thead>\n",
       "    <tr style=\"text-align: right;\">\n",
       "      <th></th>\n",
       "      <th>Id</th>\n",
       "      <th>SepalLengthCm</th>\n",
       "      <th>SepalWidthCm</th>\n",
       "      <th>PetalLengthCm</th>\n",
       "      <th>PetalWidthCm</th>\n",
       "      <th>Species</th>\n",
       "    </tr>\n",
       "  </thead>\n",
       "  <tbody>\n",
       "    <tr>\n",
       "      <th>0</th>\n",
       "      <td>1</td>\n",
       "      <td>5.1</td>\n",
       "      <td>3.5</td>\n",
       "      <td>1.4</td>\n",
       "      <td>0.2</td>\n",
       "      <td>Iris-setosa</td>\n",
       "    </tr>\n",
       "    <tr>\n",
       "      <th>1</th>\n",
       "      <td>2</td>\n",
       "      <td>4.9</td>\n",
       "      <td>3.0</td>\n",
       "      <td>1.4</td>\n",
       "      <td>0.2</td>\n",
       "      <td>Iris-setosa</td>\n",
       "    </tr>\n",
       "    <tr>\n",
       "      <th>2</th>\n",
       "      <td>3</td>\n",
       "      <td>4.7</td>\n",
       "      <td>3.2</td>\n",
       "      <td>1.3</td>\n",
       "      <td>0.2</td>\n",
       "      <td>Iris-setosa</td>\n",
       "    </tr>\n",
       "    <tr>\n",
       "      <th>3</th>\n",
       "      <td>4</td>\n",
       "      <td>4.6</td>\n",
       "      <td>3.1</td>\n",
       "      <td>1.5</td>\n",
       "      <td>0.2</td>\n",
       "      <td>Iris-setosa</td>\n",
       "    </tr>\n",
       "    <tr>\n",
       "      <th>4</th>\n",
       "      <td>5</td>\n",
       "      <td>5.0</td>\n",
       "      <td>3.6</td>\n",
       "      <td>1.4</td>\n",
       "      <td>0.2</td>\n",
       "      <td>Iris-setosa</td>\n",
       "    </tr>\n",
       "  </tbody>\n",
       "</table>\n",
       "</div>"
      ],
      "text/plain": [
       "   Id  SepalLengthCm  SepalWidthCm  PetalLengthCm  PetalWidthCm      Species\n",
       "0   1            5.1           3.5            1.4           0.2  Iris-setosa\n",
       "1   2            4.9           3.0            1.4           0.2  Iris-setosa\n",
       "2   3            4.7           3.2            1.3           0.2  Iris-setosa\n",
       "3   4            4.6           3.1            1.5           0.2  Iris-setosa\n",
       "4   5            5.0           3.6            1.4           0.2  Iris-setosa"
      ]
     },
     "execution_count": 14,
     "metadata": {},
     "output_type": "execute_result"
    }
   ],
   "source": [
    "# Veri setimizi tekrar çağıralım\n",
    "veri = pd.read_csv('/kaggle/input/iriscsv/Iris.csv')\n",
    "veri.head()"
   ]
  },
  {
   "cell_type": "code",
   "execution_count": 15,
   "id": "fb59ea4d",
   "metadata": {
    "execution": {
     "iopub.execute_input": "2024-11-30T18:33:28.462188Z",
     "iopub.status.busy": "2024-11-30T18:33:28.461737Z",
     "iopub.status.idle": "2024-11-30T18:33:28.821130Z",
     "shell.execute_reply": "2024-11-30T18:33:28.819938Z"
    },
    "papermill": {
     "duration": 0.371354,
     "end_time": "2024-11-30T18:33:28.823390",
     "exception": false,
     "start_time": "2024-11-30T18:33:28.452036",
     "status": "completed"
    },
    "tags": []
   },
   "outputs": [
    {
     "data": {
      "image/png": "[encoded data removed]",
      "text/plain": [
       "<Figure size 640x480 with 1 Axes>"
      ]
     },
     "metadata": {},
     "output_type": "display_data"
    }
   ],
   "source": [
    "# Sepal Lenght ve Petal Lenght sütunlarının histogram  grafiğini çizdirelim\n",
    "plt.figure() # figür oluştur - dış çerçeve\n",
    "plt.hist(veri[\"SepalLengthCm\"], color = \"green\", alpha = 0.5, bins = 20, label = \"Alt Yaprak Uzunluk\") # alpha = saydamlık, bins = aralık\n",
    "plt.hist(veri[\"PetalLengthCm\"], color = \"orange\", alpha = 0.5, bins = 20, label = \"Üst Yaprak Uzunluk\") # alpha = saydamlık, bins = aralık\n",
    "plt.title(\"Alt Yaprak Uzunluğu ve Üst Yaprak Uzunluğu Histogram Grafiği\") # Başlık\n",
    "plt.xlabel(\"Cm\")\n",
    "plt.ylabel(\"Frekans\")\n",
    "plt.legend() # Label'ların görünebilmesi için\n",
    "plt.show()"
   ]
  },
  {
   "cell_type": "markdown",
   "id": "68ed2609",
   "metadata": {
    "papermill": {
     "duration": 0.008609,
     "end_time": "2024-11-30T18:33:28.841050",
     "exception": false,
     "start_time": "2024-11-30T18:33:28.832441",
     "status": "completed"
    },
    "tags": []
   },
   "source": [
    "# <p style=\"background-color:#cbb3ff; font-family:newtimeroman;color:#110033; font-size:125%; border-radius: 50px 15px ; padding: 0 15px ; margin-bottom: 0;\"> 5. Çubuk Grafiği  </p>\n",
    "* Kategorik verileri temsil ettikleri değerlerle orantılı yükseklik ve uzunluktaki dikdörtgen çubuklarla sunan bir grafiktir.\n",
    "* Çubuklar dikey veya yatay olarak çizilebilir."
   ]
  },
  {
   "cell_type": "code",
   "execution_count": 16,
   "id": "e51913c3",
   "metadata": {
    "execution": {
     "iopub.execute_input": "2024-11-30T18:33:28.861125Z",
     "iopub.status.busy": "2024-11-30T18:33:28.860724Z",
     "iopub.status.idle": "2024-11-30T18:33:28.865508Z",
     "shell.execute_reply": "2024-11-30T18:33:28.864435Z"
    },
    "papermill": {
     "duration": 0.017791,
     "end_time": "2024-11-30T18:33:28.867727",
     "exception": false,
     "start_time": "2024-11-30T18:33:28.849936",
     "status": "completed"
    },
    "tags": []
   },
   "outputs": [],
   "source": [
    "# Kütüphaneleri içe aktaralm\n",
    "import matplotlib.pyplot as plt\n",
    "import pandas as pd"
   ]
  },
  {
   "cell_type": "code",
   "execution_count": 17,
   "id": "78917215",
   "metadata": {
    "execution": {
     "iopub.execute_input": "2024-11-30T18:33:28.887277Z",
     "iopub.status.busy": "2024-11-30T18:33:28.886922Z",
     "iopub.status.idle": "2024-11-30T18:33:28.903159Z",
     "shell.execute_reply": "2024-11-30T18:33:28.901952Z"
    },
    "papermill": {
     "duration": 0.028749,
     "end_time": "2024-11-30T18:33:28.905511",
     "exception": false,
     "start_time": "2024-11-30T18:33:28.876762",
     "status": "completed"
    },
    "tags": []
   },
   "outputs": [
    {
     "data": {
      "text/html": [
       "<div>\n",
       "<style scoped>\n",
       "    .dataframe tbody tr th:only-of-type {\n",
       "        vertical-align: middle;\n",
       "    }\n",
       "\n",
       "    .dataframe tbody tr th {\n",
       "        vertical-align: top;\n",
       "    }\n",
       "\n",
       "    .dataframe thead th {\n",
       "        text-align: right;\n",
       "    }\n",
       "</style>\n",
       "<table border=\"1\" class=\"dataframe\">\n",
       "  <thead>\n",
       "    <tr style=\"text-align: right;\">\n",
       "      <th></th>\n",
       "      <th>Id</th>\n",
       "      <th>SepalLengthCm</th>\n",
       "      <th>SepalWidthCm</th>\n",
       "      <th>PetalLengthCm</th>\n",
       "      <th>PetalWidthCm</th>\n",
       "      <th>Species</th>\n",
       "    </tr>\n",
       "  </thead>\n",
       "  <tbody>\n",
       "    <tr>\n",
       "      <th>0</th>\n",
       "      <td>1</td>\n",
       "      <td>5.1</td>\n",
       "      <td>3.5</td>\n",
       "      <td>1.4</td>\n",
       "      <td>0.2</td>\n",
       "      <td>Iris-setosa</td>\n",
       "    </tr>\n",
       "    <tr>\n",
       "      <th>1</th>\n",
       "      <td>2</td>\n",
       "      <td>4.9</td>\n",
       "      <td>3.0</td>\n",
       "      <td>1.4</td>\n",
       "      <td>0.2</td>\n",
       "      <td>Iris-setosa</td>\n",
       "    </tr>\n",
       "    <tr>\n",
       "      <th>2</th>\n",
       "      <td>3</td>\n",
       "      <td>4.7</td>\n",
       "      <td>3.2</td>\n",
       "      <td>1.3</td>\n",
       "      <td>0.2</td>\n",
       "      <td>Iris-setosa</td>\n",
       "    </tr>\n",
       "    <tr>\n",
       "      <th>3</th>\n",
       "      <td>4</td>\n",
       "      <td>4.6</td>\n",
       "      <td>3.1</td>\n",
       "      <td>1.5</td>\n",
       "      <td>0.2</td>\n",
       "      <td>Iris-setosa</td>\n",
       "    </tr>\n",
       "    <tr>\n",
       "      <th>4</th>\n",
       "      <td>5</td>\n",
       "      <td>5.0</td>\n",
       "      <td>3.6</td>\n",
       "      <td>1.4</td>\n",
       "      <td>0.2</td>\n",
       "      <td>Iris-setosa</td>\n",
       "    </tr>\n",
       "  </tbody>\n",
       "</table>\n",
       "</div>"
      ],
      "text/plain": [
       "   Id  SepalLengthCm  SepalWidthCm  PetalLengthCm  PetalWidthCm      Species\n",
       "0   1            5.1           3.5            1.4           0.2  Iris-setosa\n",
       "1   2            4.9           3.0            1.4           0.2  Iris-setosa\n",
       "2   3            4.7           3.2            1.3           0.2  Iris-setosa\n",
       "3   4            4.6           3.1            1.5           0.2  Iris-setosa\n",
       "4   5            5.0           3.6            1.4           0.2  Iris-setosa"
      ]
     },
     "execution_count": 17,
     "metadata": {},
     "output_type": "execute_result"
    }
   ],
   "source": [
    "# Veri setimizi tekrar çağıralım\n",
    "veri = pd.read_csv('/kaggle/input/iriscsv/Iris.csv')\n",
    "veri.head()"
   ]
  },
  {
   "cell_type": "code",
   "execution_count": 18,
   "id": "5166bcf6",
   "metadata": {
    "execution": {
     "iopub.execute_input": "2024-11-30T18:33:28.925608Z",
     "iopub.status.busy": "2024-11-30T18:33:28.925250Z",
     "iopub.status.idle": "2024-11-30T18:33:28.950380Z",
     "shell.execute_reply": "2024-11-30T18:33:28.949054Z"
    },
    "papermill": {
     "duration": 0.038168,
     "end_time": "2024-11-30T18:33:28.952910",
     "exception": false,
     "start_time": "2024-11-30T18:33:28.914742",
     "status": "completed"
    },
    "tags": []
   },
   "outputs": [
    {
     "data": {
      "text/html": [
       "<div>\n",
       "<style scoped>\n",
       "    .dataframe tbody tr th:only-of-type {\n",
       "        vertical-align: middle;\n",
       "    }\n",
       "\n",
       "    .dataframe tbody tr th {\n",
       "        vertical-align: top;\n",
       "    }\n",
       "\n",
       "    .dataframe thead th {\n",
       "        text-align: right;\n",
       "    }\n",
       "</style>\n",
       "<table border=\"1\" class=\"dataframe\">\n",
       "  <thead>\n",
       "    <tr style=\"text-align: right;\">\n",
       "      <th></th>\n",
       "      <th>Id</th>\n",
       "      <th>SepalLengthCm</th>\n",
       "      <th>SepalWidthCm</th>\n",
       "      <th>PetalLengthCm</th>\n",
       "      <th>PetalWidthCm</th>\n",
       "    </tr>\n",
       "  </thead>\n",
       "  <tbody>\n",
       "    <tr>\n",
       "      <th>count</th>\n",
       "      <td>150.000000</td>\n",
       "      <td>150.000000</td>\n",
       "      <td>150.000000</td>\n",
       "      <td>150.000000</td>\n",
       "      <td>150.000000</td>\n",
       "    </tr>\n",
       "    <tr>\n",
       "      <th>mean</th>\n",
       "      <td>75.500000</td>\n",
       "      <td>5.843333</td>\n",
       "      <td>3.054000</td>\n",
       "      <td>3.758667</td>\n",
       "      <td>1.198667</td>\n",
       "    </tr>\n",
       "    <tr>\n",
       "      <th>std</th>\n",
       "      <td>43.445368</td>\n",
       "      <td>0.828066</td>\n",
       "      <td>0.433594</td>\n",
       "      <td>1.764420</td>\n",
       "      <td>0.763161</td>\n",
       "    </tr>\n",
       "    <tr>\n",
       "      <th>min</th>\n",
       "      <td>1.000000</td>\n",
       "      <td>4.300000</td>\n",
       "      <td>2.000000</td>\n",
       "      <td>1.000000</td>\n",
       "      <td>0.100000</td>\n",
       "    </tr>\n",
       "    <tr>\n",
       "      <th>25%</th>\n",
       "      <td>38.250000</td>\n",
       "      <td>5.100000</td>\n",
       "      <td>2.800000</td>\n",
       "      <td>1.600000</td>\n",
       "      <td>0.300000</td>\n",
       "    </tr>\n",
       "    <tr>\n",
       "      <th>50%</th>\n",
       "      <td>75.500000</td>\n",
       "      <td>5.800000</td>\n",
       "      <td>3.000000</td>\n",
       "      <td>4.350000</td>\n",
       "      <td>1.300000</td>\n",
       "    </tr>\n",
       "    <tr>\n",
       "      <th>75%</th>\n",
       "      <td>112.750000</td>\n",
       "      <td>6.400000</td>\n",
       "      <td>3.300000</td>\n",
       "      <td>5.100000</td>\n",
       "      <td>1.800000</td>\n",
       "    </tr>\n",
       "    <tr>\n",
       "      <th>max</th>\n",
       "      <td>150.000000</td>\n",
       "      <td>7.900000</td>\n",
       "      <td>4.400000</td>\n",
       "      <td>6.900000</td>\n",
       "      <td>2.500000</td>\n",
       "    </tr>\n",
       "  </tbody>\n",
       "</table>\n",
       "</div>"
      ],
      "text/plain": [
       "               Id  SepalLengthCm  SepalWidthCm  PetalLengthCm  PetalWidthCm\n",
       "count  150.000000     150.000000    150.000000     150.000000    150.000000\n",
       "mean    75.500000       5.843333      3.054000       3.758667      1.198667\n",
       "std     43.445368       0.828066      0.433594       1.764420      0.763161\n",
       "min      1.000000       4.300000      2.000000       1.000000      0.100000\n",
       "25%     38.250000       5.100000      2.800000       1.600000      0.300000\n",
       "50%     75.500000       5.800000      3.000000       4.350000      1.300000\n",
       "75%    112.750000       6.400000      3.300000       5.100000      1.800000\n",
       "max    150.000000       7.900000      4.400000       6.900000      2.500000"
      ]
     },
     "execution_count": 18,
     "metadata": {},
     "output_type": "execute_result"
    }
   ],
   "source": [
    "# Veri ile ilgili istatistiksel çıkarımlar\n",
    "veri_sutun_listesi = ['SepalLengthCm', 'SepalWidthCm', 'PetalLengthCm', 'PetalWidthCm']\n",
    "tanim = veri.describe()\n",
    "tanim"
   ]
  },
  {
   "cell_type": "code",
   "execution_count": 19,
   "id": "3f4ed323",
   "metadata": {
    "execution": {
     "iopub.execute_input": "2024-11-30T18:33:28.974222Z",
     "iopub.status.busy": "2024-11-30T18:33:28.973792Z",
     "iopub.status.idle": "2024-11-30T18:33:28.984072Z",
     "shell.execute_reply": "2024-11-30T18:33:28.982901Z"
    },
    "papermill": {
     "duration": 0.023772,
     "end_time": "2024-11-30T18:33:28.986289",
     "exception": false,
     "start_time": "2024-11-30T18:33:28.962517",
     "status": "completed"
    },
    "tags": []
   },
   "outputs": [
    {
     "data": {
      "text/plain": [
       "SepalLengthCm    5.843333\n",
       "SepalWidthCm     3.054000\n",
       "PetalLengthCm    3.758667\n",
       "PetalWidthCm     1.198667\n",
       "Name: mean, dtype: float64"
      ]
     },
     "execution_count": 19,
     "metadata": {},
     "output_type": "execute_result"
    }
   ],
   "source": [
    "# Alt yaprak uzunluk ve genişlik, Üst yaprak uzunluk ve genişlik ortalama değerlerini bulalım\n",
    "ortalama = tanim.iloc[1,[1,2,3,4]]\n",
    "ortalama"
   ]
  },
  {
   "cell_type": "code",
   "execution_count": 20,
   "id": "55caf057",
   "metadata": {
    "execution": {
     "iopub.execute_input": "2024-11-30T18:33:29.006821Z",
     "iopub.status.busy": "2024-11-30T18:33:29.006398Z",
     "iopub.status.idle": "2024-11-30T18:33:29.244109Z",
     "shell.execute_reply": "2024-11-30T18:33:29.242542Z"
    },
    "papermill": {
     "duration": 0.250637,
     "end_time": "2024-11-30T18:33:29.246512",
     "exception": false,
     "start_time": "2024-11-30T18:33:28.995875",
     "status": "completed"
    },
    "tags": []
   },
   "outputs": [
    {
     "data": {
      "image/png": "[encoded data removed]",
      "text/plain": [
       "<Figure size 640x480 with 1 Axes>"
      ]
     },
     "metadata": {},
     "output_type": "display_data"
    }
   ],
   "source": [
    "# Alt-Üst yaprak uzunluk ve genişlik değerlerinin ortalamalarını çubuk grafiği ile çizdirelim\n",
    "plt.figure() # figür oluştur - dış çerçeve\n",
    "plt.bar(veri_sutun_listesi, ortalama)\n",
    "plt.title(\"Alt-Üst Yaprak Uzunluğu ve Genişliği Ortalama\")\n",
    "plt.ylabel(\"Cm\")\n",
    "plt.show()"
   ]
  },
  {
   "cell_type": "markdown",
   "id": "6a71f6e7",
   "metadata": {
    "papermill": {
     "duration": 0.009472,
     "end_time": "2024-11-30T18:33:29.265836",
     "exception": false,
     "start_time": "2024-11-30T18:33:29.256364",
     "status": "completed"
    },
    "tags": []
   },
   "source": [
    "# <p style=\"background-color:#cbb3ff; font-family:newtimeroman;color:#110033; font-size:125%; border-radius: 50px 15px ; padding: 0 15px ; margin-bottom: 0;\"> 6. Alt Plan Grafiği  </p>\n",
    "- Birden fazla grafik tek bir figür/çerçeve üzerinde bulunur."
   ]
  },
  {
   "cell_type": "code",
   "execution_count": 21,
   "id": "0203502a",
   "metadata": {
    "execution": {
     "iopub.execute_input": "2024-11-30T18:33:29.286934Z",
     "iopub.status.busy": "2024-11-30T18:33:29.286488Z",
     "iopub.status.idle": "2024-11-30T18:33:29.292141Z",
     "shell.execute_reply": "2024-11-30T18:33:29.290542Z"
    },
    "papermill": {
     "duration": 0.01902,
     "end_time": "2024-11-30T18:33:29.294418",
     "exception": false,
     "start_time": "2024-11-30T18:33:29.275398",
     "status": "completed"
    },
    "tags": []
   },
   "outputs": [],
   "source": [
    "# Kütüphaneleri içe aktaralm\n",
    "import matplotlib.pyplot as plt\n",
    "import pandas as pd"
   ]
  },
  {
   "cell_type": "code",
   "execution_count": 22,
   "id": "6dfa19cd",
   "metadata": {
    "execution": {
     "iopub.execute_input": "2024-11-30T18:33:29.316678Z",
     "iopub.status.busy": "2024-11-30T18:33:29.315451Z",
     "iopub.status.idle": "2024-11-30T18:33:29.331798Z",
     "shell.execute_reply": "2024-11-30T18:33:29.330718Z"
    },
    "papermill": {
     "duration": 0.030036,
     "end_time": "2024-11-30T18:33:29.334452",
     "exception": false,
     "start_time": "2024-11-30T18:33:29.304416",
     "status": "completed"
    },
    "tags": []
   },
   "outputs": [
    {
     "data": {
      "text/html": [
       "<div>\n",
       "<style scoped>\n",
       "    .dataframe tbody tr th:only-of-type {\n",
       "        vertical-align: middle;\n",
       "    }\n",
       "\n",
       "    .dataframe tbody tr th {\n",
       "        vertical-align: top;\n",
       "    }\n",
       "\n",
       "    .dataframe thead th {\n",
       "        text-align: right;\n",
       "    }\n",
       "</style>\n",
       "<table border=\"1\" class=\"dataframe\">\n",
       "  <thead>\n",
       "    <tr style=\"text-align: right;\">\n",
       "      <th></th>\n",
       "      <th>Id</th>\n",
       "      <th>SepalLengthCm</th>\n",
       "      <th>SepalWidthCm</th>\n",
       "      <th>PetalLengthCm</th>\n",
       "      <th>PetalWidthCm</th>\n",
       "      <th>Species</th>\n",
       "    </tr>\n",
       "  </thead>\n",
       "  <tbody>\n",
       "    <tr>\n",
       "      <th>0</th>\n",
       "      <td>1</td>\n",
       "      <td>5.1</td>\n",
       "      <td>3.5</td>\n",
       "      <td>1.4</td>\n",
       "      <td>0.2</td>\n",
       "      <td>Iris-setosa</td>\n",
       "    </tr>\n",
       "    <tr>\n",
       "      <th>1</th>\n",
       "      <td>2</td>\n",
       "      <td>4.9</td>\n",
       "      <td>3.0</td>\n",
       "      <td>1.4</td>\n",
       "      <td>0.2</td>\n",
       "      <td>Iris-setosa</td>\n",
       "    </tr>\n",
       "    <tr>\n",
       "      <th>2</th>\n",
       "      <td>3</td>\n",
       "      <td>4.7</td>\n",
       "      <td>3.2</td>\n",
       "      <td>1.3</td>\n",
       "      <td>0.2</td>\n",
       "      <td>Iris-setosa</td>\n",
       "    </tr>\n",
       "    <tr>\n",
       "      <th>3</th>\n",
       "      <td>4</td>\n",
       "      <td>4.6</td>\n",
       "      <td>3.1</td>\n",
       "      <td>1.5</td>\n",
       "      <td>0.2</td>\n",
       "      <td>Iris-setosa</td>\n",
       "    </tr>\n",
       "    <tr>\n",
       "      <th>4</th>\n",
       "      <td>5</td>\n",
       "      <td>5.0</td>\n",
       "      <td>3.6</td>\n",
       "      <td>1.4</td>\n",
       "      <td>0.2</td>\n",
       "      <td>Iris-setosa</td>\n",
       "    </tr>\n",
       "  </tbody>\n",
       "</table>\n",
       "</div>"
      ],
      "text/plain": [
       "   Id  SepalLengthCm  SepalWidthCm  PetalLengthCm  PetalWidthCm      Species\n",
       "0   1            5.1           3.5            1.4           0.2  Iris-setosa\n",
       "1   2            4.9           3.0            1.4           0.2  Iris-setosa\n",
       "2   3            4.7           3.2            1.3           0.2  Iris-setosa\n",
       "3   4            4.6           3.1            1.5           0.2  Iris-setosa\n",
       "4   5            5.0           3.6            1.4           0.2  Iris-setosa"
      ]
     },
     "execution_count": 22,
     "metadata": {},
     "output_type": "execute_result"
    }
   ],
   "source": [
    "# Veri setimizi tekrar çağıralım\n",
    "veri = pd.read_csv('/kaggle/input/iriscsv/Iris.csv')\n",
    "veri.head()"
   ]
  },
  {
   "cell_type": "code",
   "execution_count": 23,
   "id": "db1ef157",
   "metadata": {
    "execution": {
     "iopub.execute_input": "2024-11-30T18:33:29.357124Z",
     "iopub.status.busy": "2024-11-30T18:33:29.356701Z",
     "iopub.status.idle": "2024-11-30T18:33:29.747504Z",
     "shell.execute_reply": "2024-11-30T18:33:29.746327Z"
    },
    "papermill": {
     "duration": 0.40501,
     "end_time": "2024-11-30T18:33:29.750147",
     "exception": false,
     "start_time": "2024-11-30T18:33:29.345137",
     "status": "completed"
    },
    "tags": []
   },
   "outputs": [
    {
     "data": {
      "image/png": "[encoded data removed]",
      "text/plain": [
       "<Figure size 640x480 with 2 Axes>"
      ]
     },
     "metadata": {},
     "output_type": "display_data"
    }
   ],
   "source": [
    "fig, ax = plt.subplots(2,1) # figür üzerine 2*1'lik bir tablo oluştur. Bu tablo üzerine ax(eksek) ekle\n",
    "fig.suptitle(\"Alt Yaprak Uzunluk ve Üst Yaprak Uzunluk\", fontsize = 14)\n",
    "ax[0].plot(veri.Id, veri.SepalLengthCm, color = \"red\", label = \"SepalLengthCm\")\n",
    "ax[0].set_title('Alt Yaprak Uzunluk') # Boşluk\n",
    "ax[0].set_xlabel(\"id\")\n",
    "ax[0].set_ylabel(\"Cm\")\n",
    "\n",
    "ax[1].plot(veri.Id, veri.PetalLengthCm, color = \"green\", label = \"PetalLengthCm\")\n",
    "ax[1].set_title('Üst Yaprak Uzunluk') # Boşluk\n",
    "ax[1].set_xlabel(\"id\")\n",
    "ax[1].set_ylabel(\"Cm\")\n",
    "\n",
    "fig.tight_layout() # Figür arası yerleşimi ayarla\n",
    "fig.subplots_adjust(top = 0.85)\n",
    "plt.show()"
   ]
  }
 ],
 "metadata": {
  "kaggle": {
   "accelerator": "none",
   "dataSources": [
    {
     "datasetId": 4247,
     "sourceId": 6570,
     "sourceType": "datasetVersion"
    }
   ],
   "dockerImageVersionId": 30786,
   "isGpuEnabled": false,
   "isInternetEnabled": true,
   "language": "python",
   "sourceType": "notebook"
  },
  "kernelspec": {
   "display_name": "Python 3",
   "language": "python",
   "name": "python3"
  },
  "language_info": {
   "codemirror_mode": {
    "name": "ipython",
    "version": 3
   },
   "file_extension": ".py",
   "mimetype": "text/x-python",
   "name": "python",
   "nbconvert_exporter": "python",
   "pygments_lexer": "ipython3",
   "version": "3.10.14"
  },
  "papermill": {
   "default_parameters": {},
   "duration": 6.927037,
   "end_time": "2024-11-30T18:33:30.292035",
   "environment_variables": {},
   "exception": null,
   "input_path": "__notebook__.ipynb",
   "output_path": "__notebook__.ipynb",
   "parameters": {},
   "start_time": "2024-11-30T18:33:23.364998",
   "version": "2.6.0"
  }
 },
 "nbformat": 4,
 "nbformat_minor": 5
}
